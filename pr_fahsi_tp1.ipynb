{
  "nbformat": 4,
  "nbformat_minor": 0,
  "metadata": {
    "colab": {
      "provenance": [],
      "collapsed_sections": [],
      "authorship_tag": "ABX9TyPrP3VGKpJXdcQlVdeZZMsz"
    },
    "kernelspec": {
      "name": "python3",
      "display_name": "Python 3"
    },
    "language_info": {
      "name": "python"
    }
  },
  "cells": [
    {
      "cell_type": "code",
      "execution_count": 4,
      "metadata": {
        "id": "QAiOBLHW4G7w"
      },
      "outputs": [],
      "source": [
        "# the beginnning of libraries declaration part .\n",
        "\n",
        "import numpy as np # a library for the Python programming language \n",
        "# adding support for large, multi-dimensional arrays and matrices\n",
        "# along with a large collection of high-level mathematical functions to operate on these arrays .\n",
        "import os #is a module provided by Python with the goal of interacting with the operating system .\n",
        "import pandas  #  library for data manipulation and analysis .\n",
        "from sklearn.model_selection import train_test_split # importing the function that splits the dataset into a specific sizes . \n",
        "from sklearn.feature_extraction.text import CountVectorizer # used to transform a given text into a vector on the basis of the frequency (count) of each word that occurs in the entire text.\n",
        "from sklearn.linear_model import LogisticRegression # importing the logistic regression function from the sklearn library , and linear model class .\n",
        "from sklearn import metrics # the metrics module implements several loss, score, and utility functions to measure classification performance.\n",
        "import math #extends the list of mathematical functions. To use it\n",
        "\n",
        "# the end of libraries declaration part ."
      ]
    },
    {
      "cell_type": "code",
      "source": [
        "#used to change the current working directory to specified path\n",
        "# os.chdir(\"D:/DataMining/Databases_for_mining/dataset_for_soft_dev_and_comparison/text_mining/spam detection\")"
      ],
      "metadata": {
        "id": "WsZ4hLp-sSnW"
      },
      "execution_count": 5,
      "outputs": []
    },
    {
      "cell_type": "code",
      "source": [
        " spams = pandas.read_csv('spam_ham.txt' , sep=\"\\t\" , header=0)"
      ],
      "metadata": {
        "id": "HVNjW4c8PpfU"
      },
      "execution_count": 6,
      "outputs": []
    },
    {
      "cell_type": "code",
      "source": [
        "spams"
      ],
      "metadata": {
        "colab": {
          "base_uri": "https://localhost:8080/",
          "height": 424
        },
        "id": "d0oyAQ6wPwsi",
        "outputId": "ab78b2cf-cc79-4663-ac2c-15d96ecb107b"
      },
      "execution_count": 7,
      "outputs": [
        {
          "output_type": "execute_result",
          "data": {
            "text/plain": [
              "     classe                                            message\n",
              "0       ham  Go until jurong point, crazy.. Available only ...\n",
              "1       ham                      Ok lar... Joking wif u oni...\n",
              "2      spam  Free entry in 2 a wkly comp to win FA Cup fina...\n",
              "3       ham  U dun say so early hor... U c already then say...\n",
              "4       ham  Nah I don't think he goes to usf, he lives aro...\n",
              "...     ...                                                ...\n",
              "5567   spam  This is the 2nd time we have tried 2 contact u...\n",
              "5568    ham               Will ü b going to esplanade fr home?\n",
              "5569    ham  Pity, * was in mood for that. So...any other s...\n",
              "5570    ham  The guy did some bitching but I acted like i'd...\n",
              "5571    ham                         Rofl. Its true to its name\n",
              "\n",
              "[5572 rows x 2 columns]"
            ],
            "text/html": [
              "\n",
              "  <div id=\"df-20cd4085-06d1-4ece-939f-85f15884df75\">\n",
              "    <div class=\"colab-df-container\">\n",
              "      <div>\n",
              "<style scoped>\n",
              "    .dataframe tbody tr th:only-of-type {\n",
              "        vertical-align: middle;\n",
              "    }\n",
              "\n",
              "    .dataframe tbody tr th {\n",
              "        vertical-align: top;\n",
              "    }\n",
              "\n",
              "    .dataframe thead th {\n",
              "        text-align: right;\n",
              "    }\n",
              "</style>\n",
              "<table border=\"1\" class=\"dataframe\">\n",
              "  <thead>\n",
              "    <tr style=\"text-align: right;\">\n",
              "      <th></th>\n",
              "      <th>classe</th>\n",
              "      <th>message</th>\n",
              "    </tr>\n",
              "  </thead>\n",
              "  <tbody>\n",
              "    <tr>\n",
              "      <th>0</th>\n",
              "      <td>ham</td>\n",
              "      <td>Go until jurong point, crazy.. Available only ...</td>\n",
              "    </tr>\n",
              "    <tr>\n",
              "      <th>1</th>\n",
              "      <td>ham</td>\n",
              "      <td>Ok lar... Joking wif u oni...</td>\n",
              "    </tr>\n",
              "    <tr>\n",
              "      <th>2</th>\n",
              "      <td>spam</td>\n",
              "      <td>Free entry in 2 a wkly comp to win FA Cup fina...</td>\n",
              "    </tr>\n",
              "    <tr>\n",
              "      <th>3</th>\n",
              "      <td>ham</td>\n",
              "      <td>U dun say so early hor... U c already then say...</td>\n",
              "    </tr>\n",
              "    <tr>\n",
              "      <th>4</th>\n",
              "      <td>ham</td>\n",
              "      <td>Nah I don't think he goes to usf, he lives aro...</td>\n",
              "    </tr>\n",
              "    <tr>\n",
              "      <th>...</th>\n",
              "      <td>...</td>\n",
              "      <td>...</td>\n",
              "    </tr>\n",
              "    <tr>\n",
              "      <th>5567</th>\n",
              "      <td>spam</td>\n",
              "      <td>This is the 2nd time we have tried 2 contact u...</td>\n",
              "    </tr>\n",
              "    <tr>\n",
              "      <th>5568</th>\n",
              "      <td>ham</td>\n",
              "      <td>Will ü b going to esplanade fr home?</td>\n",
              "    </tr>\n",
              "    <tr>\n",
              "      <th>5569</th>\n",
              "      <td>ham</td>\n",
              "      <td>Pity, * was in mood for that. So...any other s...</td>\n",
              "    </tr>\n",
              "    <tr>\n",
              "      <th>5570</th>\n",
              "      <td>ham</td>\n",
              "      <td>The guy did some bitching but I acted like i'd...</td>\n",
              "    </tr>\n",
              "    <tr>\n",
              "      <th>5571</th>\n",
              "      <td>ham</td>\n",
              "      <td>Rofl. Its true to its name</td>\n",
              "    </tr>\n",
              "  </tbody>\n",
              "</table>\n",
              "<p>5572 rows × 2 columns</p>\n",
              "</div>\n",
              "      <button class=\"colab-df-convert\" onclick=\"convertToInteractive('df-20cd4085-06d1-4ece-939f-85f15884df75')\"\n",
              "              title=\"Convert this dataframe to an interactive table.\"\n",
              "              style=\"display:none;\">\n",
              "        \n",
              "  <svg xmlns=\"http://www.w3.org/2000/svg\" height=\"24px\"viewBox=\"0 0 24 24\"\n",
              "       width=\"24px\">\n",
              "    <path d=\"M0 0h24v24H0V0z\" fill=\"none\"/>\n",
              "    <path d=\"M18.56 5.44l.94 2.06.94-2.06 2.06-.94-2.06-.94-.94-2.06-.94 2.06-2.06.94zm-11 1L8.5 8.5l.94-2.06 2.06-.94-2.06-.94L8.5 2.5l-.94 2.06-2.06.94zm10 10l.94 2.06.94-2.06 2.06-.94-2.06-.94-.94-2.06-.94 2.06-2.06.94z\"/><path d=\"M17.41 7.96l-1.37-1.37c-.4-.4-.92-.59-1.43-.59-.52 0-1.04.2-1.43.59L10.3 9.45l-7.72 7.72c-.78.78-.78 2.05 0 2.83L4 21.41c.39.39.9.59 1.41.59.51 0 1.02-.2 1.41-.59l7.78-7.78 2.81-2.81c.8-.78.8-2.07 0-2.86zM5.41 20L4 18.59l7.72-7.72 1.47 1.35L5.41 20z\"/>\n",
              "  </svg>\n",
              "      </button>\n",
              "      \n",
              "  <style>\n",
              "    .colab-df-container {\n",
              "      display:flex;\n",
              "      flex-wrap:wrap;\n",
              "      gap: 12px;\n",
              "    }\n",
              "\n",
              "    .colab-df-convert {\n",
              "      background-color: #E8F0FE;\n",
              "      border: none;\n",
              "      border-radius: 50%;\n",
              "      cursor: pointer;\n",
              "      display: none;\n",
              "      fill: #1967D2;\n",
              "      height: 32px;\n",
              "      padding: 0 0 0 0;\n",
              "      width: 32px;\n",
              "    }\n",
              "\n",
              "    .colab-df-convert:hover {\n",
              "      background-color: #E2EBFA;\n",
              "      box-shadow: 0px 1px 2px rgba(60, 64, 67, 0.3), 0px 1px 3px 1px rgba(60, 64, 67, 0.15);\n",
              "      fill: #174EA6;\n",
              "    }\n",
              "\n",
              "    [theme=dark] .colab-df-convert {\n",
              "      background-color: #3B4455;\n",
              "      fill: #D2E3FC;\n",
              "    }\n",
              "\n",
              "    [theme=dark] .colab-df-convert:hover {\n",
              "      background-color: #434B5C;\n",
              "      box-shadow: 0px 1px 3px 1px rgba(0, 0, 0, 0.15);\n",
              "      filter: drop-shadow(0px 1px 2px rgba(0, 0, 0, 0.3));\n",
              "      fill: #FFFFFF;\n",
              "    }\n",
              "  </style>\n",
              "\n",
              "      <script>\n",
              "        const buttonEl =\n",
              "          document.querySelector('#df-20cd4085-06d1-4ece-939f-85f15884df75 button.colab-df-convert');\n",
              "        buttonEl.style.display =\n",
              "          google.colab.kernel.accessAllowed ? 'block' : 'none';\n",
              "\n",
              "        async function convertToInteractive(key) {\n",
              "          const element = document.querySelector('#df-20cd4085-06d1-4ece-939f-85f15884df75');\n",
              "          const dataTable =\n",
              "            await google.colab.kernel.invokeFunction('convertToInteractive',\n",
              "                                                     [key], {});\n",
              "          if (!dataTable) return;\n",
              "\n",
              "          const docLinkHtml = 'Like what you see? Visit the ' +\n",
              "            '<a target=\"_blank\" href=https://colab.research.google.com/notebooks/data_table.ipynb>data table notebook</a>'\n",
              "            + ' to learn more about interactive tables.';\n",
              "          element.innerHTML = '';\n",
              "          dataTable['output_type'] = 'display_data';\n",
              "          await google.colab.output.renderOutput(dataTable, element);\n",
              "          const docLink = document.createElement('div');\n",
              "          docLink.innerHTML = docLinkHtml;\n",
              "          element.appendChild(docLink);\n",
              "        }\n",
              "      </script>\n",
              "    </div>\n",
              "  </div>\n",
              "  "
            ]
          },
          "metadata": {},
          "execution_count": 7
        }
      ]
    },
    {
      "cell_type": "code",
      "source": [
        "print(type(spams)) #displaying the type of the dataset "
      ],
      "metadata": {
        "colab": {
          "base_uri": "https://localhost:8080/"
        },
        "id": "gVVzko7RQRUa",
        "outputId": "98ec3a3b-884c-433c-8914-d7799258b9d8"
      },
      "execution_count": 8,
      "outputs": [
        {
          "output_type": "stream",
          "name": "stdout",
          "text": [
            "<class 'pandas.core.frame.DataFrame'>\n"
          ]
        }
      ]
    },
    {
      "cell_type": "code",
      "source": [
        "print(spams.shape) #the dataset has 2 columns and 5572 rows "
      ],
      "metadata": {
        "colab": {
          "base_uri": "https://localhost:8080/"
        },
        "id": "m_6Og4JLQu7f",
        "outputId": "780b941d-d095-46c5-dfb3-f6035c656286"
      },
      "execution_count": 9,
      "outputs": [
        {
          "output_type": "stream",
          "name": "stdout",
          "text": [
            "(5572, 2)\n"
          ]
        }
      ]
    },
    {
      "cell_type": "code",
      "source": [
        "print(spams.columns) #the dataset has 2 unique column attributes : classe and message  "
      ],
      "metadata": {
        "colab": {
          "base_uri": "https://localhost:8080/"
        },
        "id": "tgy6UzMfQxRt",
        "outputId": "3864deef-2b37-4830-9dcb-5b34d27e72c4"
      },
      "execution_count": 10,
      "outputs": [
        {
          "output_type": "stream",
          "name": "stdout",
          "text": [
            "Index(['classe', 'message'], dtype='object')\n"
          ]
        }
      ]
    },
    {
      "cell_type": "code",
      "source": [
        "print(spams.dtypes) #the type of each attribute is object "
      ],
      "metadata": {
        "colab": {
          "base_uri": "https://localhost:8080/"
        },
        "id": "-mWoWAvUQfyd",
        "outputId": "34eab746-1b9a-42c2-f159-bbe3ad7f4990"
      },
      "execution_count": 11,
      "outputs": [
        {
          "output_type": "stream",
          "name": "stdout",
          "text": [
            "classe     object\n",
            "message    object\n",
            "dtype: object\n"
          ]
        }
      ]
    },
    {
      "cell_type": "code",
      "source": [
        "print(spams.describe()) #discriptio of our dataset we notice that the most frequent class is ham with 4825 samples , and the most frequant message \n",
        "#is sorry , i'll call you latter with 30 appearences , there are 2 unique class attributes from a total of 5572 value and 5169 unique meessages \n",
        "#from the total of 5572 messages ."
      ],
      "metadata": {
        "colab": {
          "base_uri": "https://localhost:8080/"
        },
        "id": "KgoqGrvPQjbr",
        "outputId": "af967de5-cd29-4fee-d00c-bd7fc98d8f8d"
      },
      "execution_count": 12,
      "outputs": [
        {
          "output_type": "stream",
          "name": "stdout",
          "text": [
            "       classe                 message\n",
            "count    5572                    5572\n",
            "unique      2                    5169\n",
            "top       ham  Sorry, I'll call later\n",
            "freq     4825                      30\n"
          ]
        }
      ]
    },
    {
      "cell_type": "code",
      "source": [
        "print(pandas.crosstab(index = spams[\"classe\"] , columns=\"count\")) #we notice that the ham class is the more frequent "
      ],
      "metadata": {
        "colab": {
          "base_uri": "https://localhost:8080/"
        },
        "id": "SFT93ps-Qm1v",
        "outputId": "2e3f6e3a-79e5-4e67-f658-0c0b44b996bd"
      },
      "execution_count": 13,
      "outputs": [
        {
          "output_type": "stream",
          "name": "stdout",
          "text": [
            "col_0   count\n",
            "classe       \n",
            "ham      4825\n",
            "spam      747\n"
          ]
        }
      ]
    },
    {
      "cell_type": "markdown",
      "source": [
        "# **preprocessing 1:**"
      ],
      "metadata": {
        "id": "wmFM7cKDr5mv"
      }
    },
    {
      "cell_type": "code",
      "source": [
        "spamsTrain, spamsTest = train_test_split(spams,train_size = 3572 , random_state = 1 , stratify = spams['classe'])\n",
        "#splitting the corpus into training 3572 samples and testing set (the rest) , we notice the parametere stratify equal to class it means that \n",
        "#the division of the samples are processed according to the type of class , in more details there will be two groups called starta in which the first \n",
        "#will be the one of ham class , and the other is the one of spam class , then equal size of samples will be taken from both stratas , and assigned to \n",
        "#train , or test set ."
      ],
      "metadata": {
        "id": "ellK8SyMT1zO"
      },
      "execution_count": 14,
      "outputs": []
    },
    {
      "cell_type": "code",
      "source": [
        "freqTrain = pandas.crosstab(index=spamsTrain[\"classe\"],columns=\"count\")\n",
        "print(freqTrain/freqTrain.sum())\n",
        "#displaying the percentage of each class in the train corpus "
      ],
      "metadata": {
        "colab": {
          "base_uri": "https://localhost:8080/"
        },
        "id": "pdERvAP-c8eZ",
        "outputId": "6c65f636-74ac-4baa-9a30-d6188ae0e5d7"
      },
      "execution_count": 15,
      "outputs": [
        {
          "output_type": "stream",
          "name": "stdout",
          "text": [
            "col_0      count\n",
            "classe          \n",
            "ham     0.865901\n",
            "spam    0.134099\n"
          ]
        }
      ]
    },
    {
      "cell_type": "code",
      "source": [
        "freqTest = pandas.crosstab(index=spamsTest[\"classe\"],columns=\"count\")\n",
        "print(freqTest/freqTest.sum())\n",
        "#displaying the percentage of each class in the test corpus "
      ],
      "metadata": {
        "colab": {
          "base_uri": "https://localhost:8080/"
        },
        "id": "NX6SDoUudBhw",
        "outputId": "e6834b5a-31b7-4a0e-a90c-1048644b42e2"
      },
      "execution_count": 16,
      "outputs": [
        {
          "output_type": "stream",
          "name": "stdout",
          "text": [
            "col_0   count\n",
            "classe       \n",
            "ham     0.866\n",
            "spam    0.134\n"
          ]
        }
      ]
    },
    {
      "cell_type": "code",
      "source": [
        "\n",
        "parseur = CountVectorizer(binary=True)# If a token is present in a document, it is 1, if absent it is 0 regardless of its frequency of occurrence.\n",
        "XTrain = parseur.fit_transform(spamsTrain['message'])#estimating and applying the parseur to our training set .\n",
        "print(len(parseur.get_feature_names()))#printing the number of tokens because count vectorizer will extract a dictionary conatining tokens from our\n",
        "#dataset , then each word in this dict will be considered as a column of the new built dataset (XTrain) , so  len(number of features) = len(number of tokens) "
      ],
      "metadata": {
        "colab": {
          "base_uri": "https://localhost:8080/"
        },
        "id": "aMYdVT52dGd2",
        "outputId": "84bb00cb-4118-46fc-c524-b51d138e2574"
      },
      "execution_count": 17,
      "outputs": [
        {
          "output_type": "stream",
          "name": "stdout",
          "text": [
            "6789\n"
          ]
        },
        {
          "output_type": "stream",
          "name": "stderr",
          "text": [
            "/usr/local/lib/python3.7/dist-packages/sklearn/utils/deprecation.py:87: FutureWarning: Function get_feature_names is deprecated; get_feature_names is deprecated in 1.0 and will be removed in 1.2. Please use get_feature_names_out instead.\n",
            "  warnings.warn(msg, category=FutureWarning)\n"
          ]
        }
      ]
    },
    {
      "cell_type": "code",
      "source": [
        "print(parseur.get_feature_names()) #printing the tokens and for sure it will be in a binary form "
      ],
      "metadata": {
        "colab": {
          "base_uri": "https://localhost:8080/"
        },
        "id": "OKLJuhmudJ7T",
        "outputId": "ec27ad57-e9f9-41fb-e46d-26aacd995e96"
      },
      "execution_count": 18,
      "outputs": [
        {
          "output_type": "stream",
          "name": "stdout",
          "text": [
            "['00', '000', '000pes', '0089', '01223585236', '01223585334', '0125698789', '02', '0207', '02085076972', '021', '03', '04', '0430', '05', '050703', '0578', '06', '07046744435', '07090298926', '07099833605', '07123456789', '0721072', '07732584351', '07734396839', '07753741225', '0776xxxxxxx', '07781482378', '07786200117', '077xxx', '07808247860', '07821230901', '07880867867', '07946746291', '07973788240', '07xxxxxxxxx', '08', '0800', '08000407165', '08000776320', '08000839402', '08000930705', '08000938767', '08001950382', '08002888812', '08002986906', '08006344447', '0808', '08081263000', '08081560665', '0825', '083', '08448714184', '0845', '08452810073', '08452810075over18', '0870', '08700435505150p', '08700469649', '08700621170150p', '08701213186', '08701237397', '08701417012', '087016248', '08701752560', '087018728737', '0870241182716', '08702840625', '08704439680', '08704439680ts', '08706091795', '0870737910216yrs', '08707500020', '08707509020', '0870753331018', '08707808226', '08708034412', '08709501522', '0871', '087104711148', '08712101358', '08712103738', '08712300220', '08712317606', '08712400200', '08712400602450p', '08712402050', '08712402779', '08712402902', '08712404000', '08712405020', '08712405022', '08712460324', '08712466669', '0871277810710p', '0871277810810', '087147123779am', '08714712412', '08714714011', '08715203028', '08715203649', '08715203652', '08715203656', '08715203677', '08715203685', '08715203694', '08715205273', '08715705022', '0871750', '08717507382', '08717509990', '08717890890', '08717895698', '08717898035', '08718711108', '08718720201', '08718723815', '08718725756', '08718726270', '087187262701', '08718726970', '08718726978', '087187272008', '08718727868', '08718727870', '08718727870150ppm', '08718730555', '08718730666', '08718738001', '08718738002', '08719181259', '08719181503', '08719181513', '08719899229', '09', '09050000332', '09050000460', '09050000555', '09050000878', '09050000928', '09050001295', '09050001808', '09050002311', '09050005321', '09050090044', '09050280520', '09053750005', '09056242159', '09057039994', '09058091854', '09058091870', '09058094454', '09058094507', '09058094565', '09058094583', '09058094599', '09058095107', '09058097189', '09058097218', '09058098002', '09061209465', '09061213237', '09061221061', '09061221066', '09061701461', '09061701851', '09061701939', '09061702893', '09061743386', '09061743806', '09061743810', '09061744553', '09061749602', '09061790121', '09061790126', '09063442151', '09063458130', '09064011000', '09064012160', '09064017295', '09064017305', '09064019014', '09065069120', '09065069154', '09065171142', '09065174042', '09065394973', '09065989180', '09066350750', '09066358152', '09066361921', '09066362206', '09066362220', '09066364311', '09066364349', '09066368327', '09066368470', '09066368753', '09066380611', '09066382422', '09066612661', '09066649731from', '09071512432', '09071512433', '09071517866', '09077818151', '09090204448', '09090900040', '09094100151', '09094646631', '09094646899', '09096102316', '09099725823', '09099726395', '09099726481', '09099726553', '09111030116', '09701213186', '0quit', '10', '100', '1000', '1000call', '1000s', '100percent', '100txt', '1013', '1030', '10am', '10k', '10p', '10ppm', '10th', '11', '1120', '113', '1131', '114', '1146', '116', '1172', '11mths', '11pm', '12', '1205', '121', '1225', '123', '1250', '125gift', '128', '12hours', '12hrs', '12mths', '13', '130', '1327', '139', '14', '1405', '140ppm', '145', '1450', '14tcr', '14thmarch', '150', '1500', '150p', '150p16', '150pm', '150ppermesssubscription', '150ppm', '150ppmpobox10183bhamb64xe', '150ppmsg', '150pw', '151', '153', '15pm', '16', '1680', '177', '18', '1843', '18p', '18yrs', '1956669', '1apple', '1b6a5ecef91ff9', '1cup', '1da', '1er', '1hr', '1lemon', '1mega', '1million', '1pm', '1st', '1st4terms', '1stchoice', '1stone', '1thing', '1tulsi', '1win150ppmx3', '1winaweek', '1winawk', '1x150p', '1yf', '20', '200', '2000', '2003', '2004', '2005', '2006', '200p', '20p', '21', '21870000', '21st', '220', '220cm2', '23f', '23g', '24', '24hrs', '24th', '25', '250', '250k', '255', '25p', '26', '26th', '27', '28', '2814032', '28days', '28th', '28thfeb', '29', '2b', '2bold', '2c', '2channel', '2day', '2end', '2geva', '2go', '2gthr', '2hrs', '2i', '2kbsubject', '2lands', '2marrow', '2moro', '2morow', '2morro', '2morrow', '2morrowxxxx', '2mro', '2mrw', '2mwen', '2nd', '2nhite', '2nights', '2nite', '2optout', '2price', '2px', '2rcv', '2stop', '2stoptx', '2stoptxt', '2u', '2waxsto', '2wks', '2wt', '2wu', '2yr', '30', '300', '3000', '300603', '300603t', '300p', '3030', '30ish', '30pm', '30pp', '30s', '31', '3100', '310303', '31p', '32', '32000', '3230', '326', '33', '330', '350', '3510i', '3650', '36504', '3680', '373', '37819', '38', '391784', '3aj', '3d', '3days', '3g', '3gbp', '3hrs', '3lions', '3lp', '3miles', '3mins', '3optical', '3pound', '3qxj9', '3rd', '3ss', '3uz', '3x', '40', '400', '402', '4041', '40411', '40533', '40gb', '40mph', '420', '42049', '42478', '42810', '434', '44', '440', '4403ldnw1a7rw18', '44345', '448712404000', '450p', '4742', '47per', '48', '4882', '48922', '49', '49557', '4a', '4brekkie', '4d', '4eva', '4get', '4give', '4goten', '4info', '4jx', '4msgs', '4mths', '4my', '4t', '4th', '4u', '4utxt', '4w', '4ward', '4xx26', '4years', '50', '500', '5000', '505060', '50award', '50gbp', '50p', '50perweeksub', '50perwksub', '50pmmorefrommobile2bremoved', '50ppm', '515', '5226', '528', '530', '54', '542', '5digital', '5free', '5ish', '5k', '5min', '5pm', '5th', '5wb', '5we', '5years', '600', '6089', '60p', '61200', '61610', '62220cncl', '6230', '62468', '630', '63miles', '645', '65', '650', '674', '68866', '69669', '69696', '69698', '69855', '69866', '69888', '69988', '6days', '6hl', '6hrs', '6ish', '6months', '6pm', '6th', '6times', '6wu', '700', '71', '7250', '7250i', '730', '74355', '75', '750', '7548', '7634', '7684', '77', '7732584351', '786', '79', '7am', '7cfca1a', '7ish', '7mp', '7oz', '7pm', '7th', '80', '800', '80062', '8007', '80082', '80086', '80155', '80160', '80182', '8027', '80488', '80608', '8077', '80878', '81010', '81151', '81303', '81618', '82050', '820554ad0a1705572711', '82242', '82277', '83021', '83049', '83110', '83118', '83222', '83332', '83355', '83370', '83383', '83435', '83600', '83738', '84', '84025', '84128', '84199', '84484', '850', '85023', '85222', '85233', '8552', '85555', '86021', '864233', '86688', '86888', '87021', '87066', '87077', '87121', '87131', '8714714', '872', '87239', '87575', '8800', '88039', '88066', '88088', '88222', '88600', '88800', '88877', '88888', '89034', '89080', '89545', '89555', '89693', '8lb', '8pm', '8th', '8wp', '900', '9061100010', '910', '9280114', '930', '9307622', '946', '95', '9755', '97n7qp', '99', '9996', '9ae', '9am', '9ja', '9pm', '9t', '9th', '9yt', 'a21', 'a30', 'aah', 'aaniye', 'aaooooright', 'aathi', 'ab', 'abbey', 'abdomen', 'abeg', 'aberdeen', 'abi', 'ability', 'abiola', 'abj', 'able', 'abnormally', 'about', 'aboutas', 'absolutely', 'absolutly', 'abstract', 'abt', 'abta', 'aburo', 'abuse', 'abusers', 'ac', 'acc', 'accent', 'accenture', 'accept', 'access', 'accessible', 'accident', 'accidentally', 'accommodation', 'accomodate', 'accordin', 'accordingly', 'account', 'accounting', 'accounts', 'ache', 'acknowledgement', 'acl03530150pm', 'acnt', 'aco', 'across', 'act', 'acted', 'actin', 'acting', 'action', 'activate', 'active', 'activities', 'actor', 'actual', 'actually', 'ad', 'adam', 'add', 'addamsfa', 'added', 'addicted', 'addie', 'adding', 'address', 'adewale', 'adjustable', 'admin', 'administrator', 'admirer', 'admission', 'admit', 'adore', 'adoring', 'adress', 'ads', 'adsense', 'adult', 'adults', 'advance', 'adventure', 'advice', 'advise', 'advising', 'advisors', 'aeronautics', 'aeroplane', 'affair', 'affairs', 'affection', 'affectionate', 'affections', 'afford', 'afghanistan', 'afraid', 'african', 'aft', 'after', 'afternon', 'afternoon', 'afternoons', 'afterwards', 'aftr', 'ag', 'again', 'against', 'agalla', 'age', 'age16', 'age23', 'agency', 'agents', 'ages', 'aging', 'ago', 'ah', 'aha', 'ahead', 'ahhh', 'ahhhh', 'ahmad', 'ahold', 'aid', 'aids', 'aig', 'aight', 'ain', 'aint', 'air', 'airport', 'airtel', 'aiya', 'aiyah', 'aiyar', 'aiyo', 'ajith', 'ak', 'aka', 'akon', 'al', 'alaikkum', 'alaipayuthe', 'albi', 'album', 'alcohol', 'alert', 'alertfrom', 'alex', 'alfie', 'algebra', 'algorithms', 'alian', 'alibi', 'alive', 'all', 'allah', 'allo', 'allow', 'allowed', 'allows', 'almost', 'alone', 'along', 'already', 'alright', 'alrite', 'also', 'alter', 'although', 'alto18', 'aluable', 'alwa', 'always', 'alwys', 'am', 'amanda', 'amazing', 'american', 'amla', 'ammae', 'ammo', 'among', 'amongst', 'amount', 'amp', 'amplikater', 'amrca', 'amrita', 'amt', 'amused', 'amy', 'an', 'ana', 'analysis', 'and', 'andrews', 'andros', 'angry', 'animal', 'animation', 'anjie', 'anna', 'annie', 'anniversary', 'annoncement', 'announcement', 'annoyin', 'annoying', 'anonymous', 'anot', 'another', 'ans', 'ansr', 'answer', 'answered', 'answerin', 'answering', 'answers', 'answr', 'antha', 'anthony', 'anti', 'antibiotic', 'any', 'anybody', 'anyhow', 'anymore', 'anyone', 'anyones', 'anyplaces', 'anythin', 'anything', 'anythingtomorrow', 'anytime', 'anyway', 'anyways', 'anywhere', 'aom', 'apart', 'apartment', 'apes', 'apeshit', 'apnt', 'apo', 'apologetic', 'apologize', 'app', 'apparently', 'appeal', 'appendix', 'applausestore', 'apples', 'application', 'apply', 'applyed', 'applying', 'appointment', 'appointments', 'appreciate', 'appreciated', 'approaching', 'approved', 'approx', 'apps', 'appt', 'appy', 'april', 'aproach', 'apt', 'aquarius', 'ar', 'arabian', 'arcade', 'ard', 'are', 'area', 'aren', 'arent', 'arestaurant', 'aretaking', 'argh', 'argue', 'arguing', 'argument', 'arise', 'arithmetic', 'armand', 'armenia', 'arms', 'arng', 'arnt', 'around', 'aroundn', 'arrange', 'arranging', 'arrested', 'arrival', 'arrive', 'arrived', 'arsenal', 'arts', 'arty', 'arun', 'as', 'asa', 'asap', 'asda', 'ashes', 'ashley', 'ashwini', 'asia', 'asian', 'asjesus', 'ask', 'askd', 'asked', 'askin', 'asking', 'asks', 'aslamalaikkum', 'asleep', 'asp', 'aspects', 'ass', 'assessment', 'asshole', 'assistance', 'asssssholeeee', 'assume', 'assumed', 'asthere', 'asthma', 'astoundingly', 'asus', 'asusual', 'at', 'ate', 'athletic', 'athome', 'atlanta', 'atlast', 'atleast', 'atm', 'atrocious', 'attach', 'attached', 'attack', 'attempt', 'atten', 'attend', 'attended', 'attending', 'attention', 'attitude', 'attraction', 'attractive', 'attributed', 'atural', 'auction', 'audiitions', 'audition', 'aunt', 'auntie', 'aunties', 'aunts', 'aunty', 'aust', 'australia', 'authorise', 'auto', 'ava', 'availa', 'available', 'avalarr', 'avatar', 'avble', 'ave', 'avent', 'avenue', 'avo', 'avoid', 'avoiding', 'avoids', 'await', 'awaiting', 'awake', 'award', 'awarded', 'away', 'awesome', 'aww', 'awww', 'ax', 'axel', 'axis', 'ay', 'ayn', 'ayo', 'b4', 'b4280703', 'ba128nnfwfly150ppm', 'babe', 'babes', 'baby', 'babygoodbye', 'babyjontet', 'babysit', 'bac', 'back', 'backdoor', 'backwards', 'bad', 'badass', 'badly', 'badrith', 'bag', 'bags', 'bahamas', 'baig', 'bak', 'balance', 'ball', 'balloon', 'balls', 'bam', 'bambling', 'bang', 'bani', 'bank', 'banned', 'bao', 'bar', 'barbie', 'bare', 'barely', 'barmed', 'barolla', 'barrel', 'barring', 'barry', 'bars', 'base', 'based', 'bash', 'basic', 'basically', 'basketball', 'basq', 'bat', 'batchlor', 'bath', 'bathe', 'bathing', 'bathroom', 'batsman', 'battery', 'battle', 'bawling', 'bay', 'bb', 'bbd', 'bbq', 'bc', 'bcaz', 'bcm', 'bcm1896wc1n3xx', 'bcm4284', 'bcoz', 'bcs', 'bcums', 'bday', 'be', 'beach', 'bear', 'bears', 'beatings', 'beauties', 'beautiful', 'beauty', 'bec', 'becaus', 'because', 'becausethey', 'become', 'becomes', 'becoz', 'becz', 'bed', 'bedbut', 'bedrm', 'bedroom', 'beeen', 'been', 'beendropping', 'beer', 'beerage', 'beers', 'befor', 'before', 'beforehand', 'beg', 'beggar', 'begging', 'begin', 'begun', 'behalf', 'behave', 'behind', 'bein', 'being', 'believe', 'belive', 'bell', 'bellearlier', 'belligerent', 'belly', 'belovd', 'beloved', 'ben', 'beneath', 'beneficiary', 'benefits', 'bennys', 'beside', 'best', 'best1', 'bet', 'beth', 'betta', 'better', 'bettr', 'between', 'bevies', 'beware', 'beyond', 'bf', 'bffs', 'bfore', 'bhaji', 'bhaskar', 'bian', 'biatch', 'bid', 'bids', 'big', 'bigger', 'biggest', 'bike', 'bill', 'billed', 'billing', 'billion', 'bimbo', 'bin', 'biola', 'bird', 'birds', 'birla', 'biro', 'birth', 'birthdate', 'birthday', 'bishan', 'bit', 'bitch', 'bitching', 'bite', 'bits', 'biz', 'bk', 'black', 'blackberry', 'blake', 'blame', 'blank', 'blanked', 'blanket', 'blankets', 'blastin', 'bleh', 'bless', 'blessed', 'blessing', 'blessings', 'blimey', 'blind', 'block', 'blogging', 'blogspot', 'bloke', 'blokes', 'blonde', 'bloo', 'blood', 'bloody', 'blow', 'blowing', 'blown', 'blue', 'bluetooth', 'bluff', 'bluray', 'bmw', 'board', 'boat', 'boatin', 'bob', 'body', 'boggy', 'bognor', 'bold', 'bold2', 'bomb', 'bone', 'bong', 'bonus', 'boo', 'boobs', 'book', 'booked', 'bookedthe', 'booking', 'books', 'boooo', 'boost', 'booty', 'bootydelious', 'borderline', 'bored', 'borin', 'boring', 'born', 'borrow', 'boss', 'boston', 'both', 'bother', 'bothering', 'bottle', 'bottom', 'bought', 'bout', 'bowl', 'bowls', 'box', 'box177', 'box245c2150pm', 'box326', 'box385', 'box39822', 'box403', 'box420', 'box434sk38wp150ppm18', 'box61', 'box95qu', 'box97n7qp', 'boy', 'boye', 'boyf', 'boyfriend', 'boys', 'boytoy', 'brah', 'brain', 'brainless', 'brains', 'brainy', 'brand', 'brandy', 'bras', 'braved', 'bray', 'brdget', 'bread', 'breadstick', 'break', 'breakfast', 'breakin', 'breaking', 'breath', 'breathe', 'breathe1', 'breather', 'breeze', 'breezy', 'bribe', 'bridge', 'brief', 'bright', 'brighten', 'brilliant', 'brilliantly', 'brin', 'bring', 'bringing', 'brings', 'brisk', 'brison', 'bristol', 'british', 'bro', 'broad', 'broadband', 'broke', 'broken', 'brolly', 'bros', 'broth', 'brothas', 'brother', 'brought', 'brownie', 'brownies', 'browser', 'browsin', 'brum', 'bslvyl', 'bsn', 'bsnl', 'bstfrnd', 'bt', 'btw', 'bubbletext', 'bucks', 'bud', 'buddy', 'budget', 'buff', 'buffet', 'buffy', 'bugis', 'building', 'built', 'bull', 'bullshit', 'bunch', 'bundle', 'bunkers', 'buns', 'burger', 'burgundy', 'burial', 'burning', 'burns', 'burnt', 'burrito', 'bus', 'buses', 'busetop', 'business', 'busy', 'but', 'butt', 'buttheres', 'buttons', 'buy', 'buyer', 'buyers', 'buying', 'buzz', 'buzzzz', 'bw', 'bx420', 'bx526', 'by', 'byatch', 'bye', 'cab', 'cabin', 'cafe', 'cage', 'cake', 'cakes', 'cal', 'calculated', 'calculation', 'calicut', 'california', 'call', 'call09050000327', 'call2optout', 'callback', 'callcost', 'callcost150ppmmobilesvary', 'calld', 'called', 'caller', 'callers', 'callertune', 'callfreefone', 'callin', 'calling', 'calls', 'calls1', 'calm', 'cam', 'camcorder', 'came', 'camera', 'camp', 'campus', 'camry', 'can', 'canal', 'canary', 'cancel', 'canceled', 'cancelled', 'cancer', 'canlove', 'cann', 'canname', 'cannot', 'cant', 'cantdo', 'capital', 'caps', 'captain', 'captaining', 'car', 'card', 'cardiff', 'cardin', 'care', 'cared', 'career', 'careful', 'carefully', 'cares', 'caring', 'carlie', 'carlin', 'carlos', 'carly', 'caroline', 'carry', 'carryin', 'cars', 'cartons', 'cartoon', 'case', 'cash', 'cashbin', 'cashto', 'casing', 'cast', 'castor', 'casualty', 'cat', 'catch', 'catches', 'catching', 'caught', 'cause', 'causes', 'causing', 'caveboy', 'cbe', 'cc', 'cc100p', 'ccna', 'cd', 'cdgt', 'cds', 'ceiling', 'celeb', 'celebrate', 'celebrated', 'celebration', 'celebrations', 'cell', 'center', 'centre', 'cer', 'ceri', 'certainly', 'cha', 'chachi', 'chad', 'chain', 'challenge', 'champ', 'champlaxigating', 'champneys', 'chance', 'chances', 'change', 'changed', 'changes', 'changing', 'channel', 'chapel', 'chaps', 'chapter', 'character', 'characters', 'charge', 'charged', 'charges', 'charity', 'charles', 'charlie', 'chart', 'chase', 'chasing', 'chastity', 'chat', 'chat80155', 'chatter', 'chatting', 'cheap', 'cheaper', 'cheat', 'cheating', 'chechi', 'check', 'checked', 'checkin', 'checking', 'cheek', 'cheered', 'cheers', 'cheese', 'cheetos', 'chef', 'chennai', 'cherish', 'cherthala', 'chest', 'chex', 'chez', 'chic', 'chick', 'chicken', 'chickened', 'chief', 'chik', 'chikku', 'child', 'childish', 'children', 'childrens', 'chile', 'chill', 'chillaxin', 'chillin', 'china', 'chinchillas', 'chinese', 'chinky', 'chip', 'chk', 'chloe', 'chocolate', 'choice', 'choose', 'chores', 'chosen', 'christ', 'christians', 'christmas', 'christmassy', 'chuck', 'chuckin', 'church', 'ciao', 'cine', 'cinema', 'city', 'citylink', 'cl', 'claim', 'claimcode', 'claims', 'claire', 'clarification', 'clark', 'clas', 'clash', 'class', 'classes', 'classic', 'cld', 'clean', 'cleaning', 'clear', 'cleared', 'clearing', 'clever', 'click', 'cliff', 'cliffs', 'clock', 'clocks', 'clos1', 'close', 'closed', 'closer', 'closes', 'closingdate04', 'clothes', 'club', 'clubmoby', 'clubsaisai', 'clubzed', 'cm2', 'cme', 'cmon', 'cn', 'cnn', 'co', 'coach', 'coast', 'coat', 'coaxing', 'cochin', 'cock', 'code', 'coffee', 'coins', 'colany', 'cold', 'colin', 'collages', 'collapsed', 'colleagues', 'collect', 'collected', 'collecting', 'collection', 'college', 'colour', 'colours', 'com', 'com1win150ppmx3age16', 'combine', 'come', 'comedy', 'comes', 'comfey', 'comfort', 'comin', 'coming', 'command', 'comment', 'commercial', 'commit', 'common', 'community', 'comp', 'companion', 'company', 'compare', 'compass', 'compensation', 'competition', 'complain', 'complaint', 'complementary', 'complete', 'completely', 'completing', 'complimentary', 'comprehensive', 'compromised', 'compulsory', 'computational', 'computer', 'computerless', 'comuk', 'conacted', 'concentrate', 'concentrating', 'concentration', 'concerned', 'concert', 'condition', 'conditions', 'conducts', 'conference', 'confidence', 'configure', 'confirm', 'confirmd', 'confirmed', 'confused', 'confuses', 'congrats', 'congratulation', 'congratulations', 'connect', 'connection', 'connections', 'cons', 'consent', 'conserve', 'consider', 'considering', 'console', 'constant', 'constantly', 'contact', 'contacted', 'contains', 'content', 'contented', 'contents', 'continent', 'continue', 'continued', 'contract', 'contribute', 'control', 'conversations', 'convey', 'conveying', 'convince', 'convinced', 'convincing', 'cook', 'cooked', 'cookies', 'cooking', 'cool', 'cooped', 'cooperative', 'copied', 'copies', 'coping', 'cops', 'copy', 'corect', 'corporation', 'corrct', 'correct', 'correction', 'corvettes', 'cos', 'cosign', 'cost', 'costa', 'costing', 'costs', 'costume', 'costumes', 'couch', 'cougar', 'cough', 'coughing', 'could', 'couldn', 'count', 'countin', 'countinlots', 'country', 'counts', 'coupla', 'couple', 'courage', 'courageous', 'course', 'cousin', 'cover', 'covers', 'coz', 'cozy', 'cps', 'cr01327bt', 'cr9', 'crab', 'crack', 'craigslist', 'crammed', 'cramps', 'crap', 'crash', 'crashed', 'crave', 'craving', 'craziest', 'crazy', 'crazyin', 'cream', 'created', 'credit', 'credited', 'credits', 'creep', 'creepy', 'cricketer', 'crickiting', 'cried', 'cross', 'crossing', 'crowd', 'croydon', 'crucify', 'cruel', 'cruise', 'cry', 'crying', 'cs', 'csbcm4235wc1n3xx', 'csc', 'csh11', 'cstore', 'cts', 'cu', 'cuck', 'cud', 'cuddle', 'cuddled', 'cuddling', 'culdnt', 'cultures', 'cum', 'cumin', 'cup', 'cupboard', 'curious', 'current', 'currently', 'curry', 'curtsey', 'cust', 'custcare', 'custom', 'customer', 'customercare', 'customers', 'customersqueries', 'cut', 'cute', 'cutefrnd', 'cutest', 'cutting', 'cuz', 'cw25wx', 'cya', 'cysts', 'd3wv', 'da', 'dabbles', 'dad', 'daddy', 'dai', 'daily', 'dammit', 'damn', 'dan', 'dancce', 'dance', 'dancin', 'dane', 'danger', 'dare', 'dark', 'darkest', 'darkness', 'darlin', 'darling', 'darlings', 'darren', 'dartboard', 'dasara', 'dat', 'data', 'date', 'datebox1282essexcm61xn', 'dates', 'dating', 'datz', 'dave', 'day', 'days', 'dbuk', 'de', 'dead', 'deal', 'dealer', 'dealing', 'deals', 'dear', 'dear1', 'dearly', 'death', 'debating', 'dec', 'decades', 'december', 'decent', 'decide', 'decided', 'deciding', 'decimal', 'decision', 'decisions', 'declare', 'decorating', 'dedicate', 'dedicated', 'deduct', 'deep', 'deepak', 'deepest', 'deer', 'deeraj', 'def', 'defeat', 'defer', 'definite', 'definitely', 'dehydrated', 'del', 'delay', 'delayed', 'delete', 'deleted', 'delicious', 'deliver', 'delivered', 'deliveredtomorrow', 'delivery', 'deltomorrow', 'dem', 'demand', 'den', 'dena', 'dengra', 'denis', 'dental', 'dentists', 'deny', 'denying', 'dependable', 'dependents', 'depends', 'deposit', 'depressed', 'depression', 'dept', 'der', 'derek', 'derp', 'description', 'desert', 'designation', 'desires', 'desk', 'desparate', 'desparately', 'despite', 'dessert', 'destination', 'detailed', 'details', 'determine', 'determined', 'detroit', 'develop', 'developed', 'developer', 'device', 'devouring', 'dey', 'dhanush', 'dhina', 'dhorte', 'di', 'dial', 'dialling', 'dialogue', 'diamonds', 'diapers', 'dick', 'dict', 'dictionary', 'did', 'diddy', 'didn', 'didnt', 'didntgive', 'die', 'died', 'diesel', 'diet', 'dieting', 'diff', 'difference', 'differences', 'different', 'difficult', 'difficulties', 'dificult', 'digi', 'digital', 'digits', 'dignity', 'dimension', 'din', 'dine', 'dined', 'dinero', 'dining', 'dinner', 'dint', 'dip', 'dippeditinadew', 'direct', 'directly', 'director', 'dirt', 'dirty', 'dis', 'disagreeable', 'disappeared', 'disappointment', 'disaster', 'disasters', 'disastrous', 'disclose', 'disconnect', 'discount', 'discreet', 'discuss', 'discussed', 'diseases', 'disk', 'dislikes', 'dismissial', 'display', 'distance', 'distract', 'disturb', 'disturbing', 'ditto', 'divert', 'division', 'divorce', 'diwali', 'dizzamn', 'dled', 'dload', 'dnot', 'dnt', 'do', 'dob', 'doc', 'dock', 'docks', 'docs', 'doctor', 'documents', 'dodgey', 'does', 'doesn', 'doesnt', 'dog', 'doggin', 'dogging', 'doggy', 'dogs', 'doin', 'doinat', 'doing', 'doit', 'doke', 'dokey', 'doll', 'dollars', 'dolls', 'don', 'donate', 'done', 'donno', 'dont', 'dontcha', 'donyt', 'dooms', 'door', 'doors', 'dorm', 'dorothy', 'dosomething', 'dot', 'double', 'doubles', 'doubt', 'doug', 'dough', 'down', 'download', 'downloaded', 'downloads', 'downon', 'downstem', 'dozens', 'dps', 'dr', 'dracula', 'drama', 'dramatic', 'drastic', 'draw', 'draws', 'dream', 'dreams', 'dreamz', 'dress', 'dressed', 'dresser', 'drink', 'drinkin', 'drinking', 'drinks', 'drivby', 'drive', 'driver', 'drivin', 'driving', 'drms', 'drop', 'dropped', 'drops', 'drpd', 'drug', 'drugdealer', 'drugs', 'drum', 'drunk', 'drunken', 'drvgsto', 'dry', 'dsn', 'dt', 'dub', 'ducking', 'dude', 'dudes', 'dudette', 'due', 'duffer', 'dun', 'dunno', 'duo', 'durban', 'during', 'dust', 'duvet', 'dvd', 'dwn', 'dying', 'dysentry', 'e14', 'each', 'earlier', 'early', 'earn', 'earth', 'easier', 'easily', 'east', 'eastenders', 'easy', 'eat', 'eaten', 'eatin', 'eating', 'ebay', 'ec2a', 'echo', 'ed', 'edge', 'edison', 'edition', 'edrunk', 'edu', 'educational', 'eek', 'eerie', 'eerulli', 'effect', 'effects', 'efficient', 'efreefone', 'eg', 'egbon', 'egg', 'eggs', 'ego', 'eh', 'eh74rr', 'eight', 'eighth', 'eire', 'either', 'elaborate', 'elaborating', 'elama', 'eldest', 'electricity', 'elephant', 'elliot', 'else', 'elsewhere', 'em', 'email', 'emailed', 'embarassed', 'embarrassed', 'emc1', 'emergency', 'emigrated', 'emily', 'emotion', 'employee', 'employer', 'empty', 'en', 'end', 'ended', 'ending', 'endowed', 'ends', 'enemy', 'energy', 'eng', 'engaged', 'engagement', 'engalnd', 'engin', 'england', 'english', 'enjoy', 'enjoyed', 'enjoyin', 'enjoying', 'enough', 'enter', 'entered', 'entertain', 'entertaining', 'entire', 'entitled', 'entropication', 'entry', 'entry41', 'enufcredeit', 'enuff', 'envelope', 'environment', 'envy', 'epi', 'epsilon', 'er', 'ericson', 'ericsson', 'erm', 'erode', 'err', 'error', 'errors', 'eruku', 'erupt', 'esaplanade', 'escape', 'ese', 'especially', 'esplanade', 'essential', 'establish', 'eta', 'etc', 'etlp', 'euro', 'euro2004', 'eurodisinc', 'europe', 'evaporated', 'eve', 'eveb', 'even', 'evening', 'evenings', 'event', 'ever', 'every', 'every1', 'everybody', 'everyboy', 'everyday', 'everyone', 'everythin', 'everything', 'everytime', 'everywhere', 'evn', 'evng', 'evo', 'evr', 'evrey', 'evry', 'evrydy', 'ew', 'ex', 'exact', 'exactly', 'exam', 'exams', 'excellent', 'except', 'exciting', 'excuse', 'excuses', 'exe', 'executive', 'exercise', 'exeter', 'exhausted', 'exhibition', 'exist', 'exmpel', 'exorcism', 'exorcist', 'expect', 'expected', 'expecting', 'expects', 'expensive', 'experience', 'experiencehttp', 'experiment', 'expert', 'expired', 'expires', 'explain', 'explicitly', 'explosive', 'exposed', 'exposes', 'express', 'expression', 'expressoffer', 'exterminator', 'extra', 'extract', 'extreme', 'ey', 'eye', 'eyed', 'eyes', 'f4q', 'fa', 'fab', 'face', 'facebook', 'fact', 'factory', 'faggot', 'faggy', 'faglord', 'failed', 'failing', 'fails', 'failure', 'fair', 'faith', 'fal', 'falconerf', 'fall', 'fallen', 'falling', 'falls', 'fals', 'famamus', 'family', 'famous', 'fan', 'fancied', 'fancies', 'fancy', 'fantasies', 'fantastic', 'fantasy', 'far', 'farm', 'farrell', 'farting', 'fast', 'faster', 'fastest', 'fat', 'father', 'fathima', 'fats', 'fatty', 'fault', 'fav', 'fave', 'favor', 'favorite', 'favour', 'favourite', 'fb', 'feb', 'february', 'feel', 'feelin', 'feeling', 'feelingood', 'feels', 'fees', 'feet', 'fell', 'fellow', 'felt', 'female', 'festival', 'fetch', 'fetching', 'fever', 'few', 'ffectionate', 'fffff', 'ffffffffff', 'ffffuuuuuuu', 'fgkslpo', 'fgkslpopw', 'fidalfication', 'field', 'fifa', 'fifteen', 'fight', 'fighting', 'fightng', 'fights', 'figure', 'figures', 'figuring', 'file', 'files', 'fill', 'filled', 'filling', 'fills', 'film', 'films', 'filth', 'filthy', 'filthyguys', 'final', 'finalise', 'finally', 'financial', 'find', 'finds', 'fine', 'finest', 'fingers', 'finish', 'finishd', 'finished', 'finishes', 'finishing', 'fink', 'finn', 'fire', 'firefox', 'fireplace', 'firmware', 'first', 'fish', 'fishrman', 'fit', 'fiting', 'five', 'fix', 'fixd', 'fixed', 'fixedline', 'fizz', 'flag', 'flaked', 'flaky', 'flame', 'flash', 'flat', 'flatter', 'flavour', 'flew', 'flies', 'flight', 'flights', 'flip', 'flirt', 'flirting', 'floating', 'floor', 'florida', 'flow', 'flower', 'flowers', 'flowing', 'flute', 'fly', 'flying', 'fml', 'fne', 'fo', 'foley', 'folks', 'follow', 'followed', 'followin', 'following', 'fond', 'fondly', 'fone', 'foned', 'fones', 'fonin', 'food', 'fool', 'fools', 'foot', 'football', 'footie', 'footprints', 'for', 'force', 'forced', 'foregate', 'foreign', 'forever', 'forevr', 'forfeit', 'forget', 'forgets', 'forgive', 'forgiven', 'forgot', 'forgotten', 'forgt', 'form', 'formally', 'formatting', 'forms', 'forth', 'fortune', 'forum', 'forward', 'forwarded', 'forwarding', 'found', 'four', 'fourth', 'fox', 'fps', 'fr', 'fraction', 'fran', 'frank', 'frankie', 'franxx', 'franyxxxxx', 'frauds', 'freak', 'freaked', 'freaking', 'freaky', 'fredericksburg', 'free', 'free2day', 'freedom', 'freefone', 'freek', 'freemsg', 'freephone', 'freezing', 'freinds', 'fren', 'frens', 'fresh', 'fret', 'fri', 'friday', 'fridge', 'fried', 'friend', 'friends', 'friendsare', 'friendship', 'friendships', 'fringe', 'frm', 'frmcloud', 'frnd', 'frnds', 'frndship', 'frndshp', 'frndsship', 'fro', 'frog', 'from', 'fromm', 'front', 'frontierville', 'frying', 'fuck', 'fuckin', 'fucking', 'fujitsu', 'ful', 'fulfil', 'full', 'fullonsms', 'fumbling', 'fun', 'function', 'fund', 'funeral', 'funk', 'funky', 'funny', 'funs', 'furniture', 'further', 'fusion', 'future', 'fuuuuck', 'fwiw', 'fyi', 'g2', 'g696ga', 'ga', 'gailxx', 'gained', 'gal', 'galileo', 'gals', 'gamb', 'game', 'games', 'gamestar', 'gandhipuram', 'ganesh', 'gang', 'gap', 'gaps', 'garage', 'garbage', 'garments', 'gary', 'gas', 'gastroenteritis', 'gauge', 'gautham', 'gauti', 'gave', 'gay', 'gayle', 'gays', 'gaytextbuddy', 'gaze', 'gbp', 'gbp1', 'gbp4', 'gbp5', 'gd', 'ge', 'gee', 'geeee', 'geeeee', 'gender', 'general', 'generally', 'genes', 'genius', 'gent', 'gentle', 'gentleman', 'gently', 'genuine', 'genus', 'geoenvironmental', 'george', 'gep', 'ger', 'get', 'get4an18th', 'geting', 'gets', 'getstop', 'gettin', 'getting', 'getzed', 'ghost', 'gibbs', 'gift', 'gifted', 'gifts', 'giggle', 'gimme', 'gimmi', 'gin', 'girl', 'girlfrnd', 'girls', 'gist', 'giv', 'give', 'given', 'gives', 'giving', 'glad', 'glasgow', 'glass', 'glo', 'global', 'glorious', 'gloucesterroad', 'gm', 'gn', 'gnt', 'gnun', 'go', 'goal', 'goals', 'gobi', 'god', 'gods', 'goes', 'goigng', 'goin', 'going', 'gokila', 'gold', 'golddigger', 'golden', 'gon', 'gona', 'gone', 'gonna', 'gonnamissu', 'good', 'goodevening', 'goodfriend', 'goodmate', 'goodmorning', 'goodnight', 'goodnite', 'goodnoon', 'goodo', 'goodtime', 'google', 'gopalettan', 'gorgeous', 'goss', 'gossip', 'got', 'gota', 'gotbabes', 'goto', 'gotta', 'gotten', 'gotto', 'goverment', 'govt', 'gower', 'gprs', 'gpu', 'gr8', 'gr8fun', 'gr8prizes', 'grace', 'grahmbell', 'gram', 'grams', 'grand', 'grandfather', 'grandma', 'granite', 'granted', 'grasp', 'grateful', 'grave', 'gravel', 'gravity', 'gravy', 'gray', 'grazed', 'great', 'greatest', 'greatly', 'green', 'greet', 'greetings', 'grinder', 'grins', 'grinule', 'grl', 'grocers', 'grooved', 'ground', 'group', 'grow', 'growing', 'grr', 'grumble', 'gt', 'guaranteed', 'gud', 'guess', 'guessed', 'guesses', 'guessin', 'guessing', 'guide', 'guides', 'guild', 'guilty', 'guitar', 'gumby', 'gut', 'guy', 'guys', 'gv', 'gving', 'gym', 'gymnastics', 'gynae', 'ha', 'habba', 'habit', 'hack', 'had', 'hadn', 'haf', 'haha', 'hahaha', 'hai', 'hail', 'hair', 'haircut', 'hairdressers', 'haiz', 'half', 'half8th', 'hallaq', 'halloween', 'ham', 'hamper', 'hamster', 'hand', 'handed', 'handing', 'handle', 'hands', 'handset', 'handsomes', 'hang', 'hangin', 'hanging', 'hanks', 'hannaford', 'happen', 'happend', 'happened', 'happenin', 'happening', 'happens', 'happier', 'happiest', 'happily', 'happiness', 'happy', 'hard', 'hardcore', 'hardly', 'harish', 'harlem', 'harri', 'harry', 'has', 'hasn', 'hasnt', 'hate', 'haul', 'haunt', 'hav', 'hava', 'havbeen', 'have', 'havebeen', 'haven', 'havent', 'haventcn', 'havin', 'having', 'havn', 'havnt', 'hdd', 'he', 'head', 'headache', 'headin', 'heading', 'heads', 'heal', 'healer', 'healthy', 'hear', 'heard', 'hearing', 'heart', 'hearts', 'heat', 'heaven', 'heavily', 'heavy', 'hee', 'heehee', 'hehe', 'height', 'held', 'helen', 'helens', 'hell', 'hella', 'hello', 'hellogorgeous', 'helloooo', 'help', 'help08700621170150p', 'help08718728876', 'helpline', 'helps', 'heltini', 'hence', 'hep', 'her', 'here', 'hero', 'heron', 'herself', 'hes', 'hex', 'hey', 'hf8', 'hg', 'hi', 'hidden', 'hide', 'hiding', 'high', 'highest', 'hill', 'hillsborough', 'him', 'hint', 'hip', 'hiphop', 'his', 'history', 'hit', 'hittng', 'hiya', 'hl', 'hlday', 'hlp', 'hm', 'hme', 'hmm', 'hmmm', 'hmmmm', 'hmmross', 'hmv', 'hmv1', 'ho', 'hogli', 'hogolo', 'hol', 'holby', 'hold', 'holder', 'holding', 'hole', 'holiday', 'holla', 'hollalater', 'hols', 'holy', 'home', 'homeowners', 'hon', 'honest', 'honestly', 'honesty', 'honey', 'honeybee', 'hont', 'hooch', 'hoody', 'hook', 'hooked', 'hop', 'hope', 'hoped', 'hopeful', 'hopefully', 'hopeing', 'hopeu', 'hoping', 'hor', 'horniest', 'horny', 'horrible', 'horse', 'hos', 'hospital', 'hospitals', 'host', 'hostel', 'hot', 'hotel', 'hotels', 'hottest', 'hour', 'hourish', 'hours', 'house', 'housewives', 'housing', 'how', 'howard', 'howda', 'however', 'hows', 'howz', 'hp', 'hp20', 'hppnss', 'hr', 'hrishi', 'hrs', 'html', 'http', 'huai', 'hubby', 'hug', 'huge', 'hugh', 'hugs', 'huh', 'huiming', 'hum', 'humans', 'hun', 'hundred', 'hundreds', 'hungry', 'hunks', 'hunny', 'hunt', 'hurricanes', 'hurried', 'hurry', 'hurt', 'hurting', 'hurts', 'husband', 'hussey', 'hustle', 'hut', 'hv', 'hv9d', 'hw', 'hyde', 'hype', 'iam', 'ibh', 'ibhltd', 'ibiza', 'ibm', 'ibn', 'ic', 'ice', 'icic', 'icicibank', 'icky', 'icmb3cktz8r7', 'icon', 'id', 'idc', 'idea', 'ideal', 'identifier', 'idew', 'idiot', 'idk', 'idps', 'if', 'iff', 'ifink', 'ig11', 'ignore', 'ignoring', 'ihave', 'ijust', 'ikea', 'il', 'ileave', 'ill', 'illness', 'illspeak', 'im', 'images', 'imagine', 'img', 'imma', 'immed', 'immediately', 'immunisation', 'imp', 'impatient', 'implications', 'important', 'importantly', 'impossible', 'impress', 'impressed', 'impression', 'improve', 'improved', 'imprtant', 'in', 'in2', 'inc', 'inch', 'inches', 'incident', 'include', 'includes', 'including', 'inclusive', 'inconsiderate', 'inconvenience', 'increase', 'incredible', 'increments', 'indeed', 'independence', 'independently', 'index', 'india', 'indian', 'indians', 'indicate', 'individual', 'indyarocks', 'inever', 'infact', 'infections', 'infernal', 'influx', 'info', 'inform', 'information', 'informed', 'infront', 'ing', 'initiate', 'ink', 'inmind', 'innocent', 'insha', 'inshah', 'inside', 'inspection', 'inst', 'installation', 'installing', 'instant', 'instantly', 'instead', 'instituitions', 'instructions', 'insurance', 'intelligent', 'intention', 'intentions', 'interest', 'interested', 'interesting', 'interflora', 'interfued', 'internal', 'internet', 'interview', 'interviews', 'interviw', 'into', 'intrepid', 'intro', 'intrude', 'invaders', 'invention', 'invest', 'invite', 'invited', 'inviting', 'invnted', 'involved', 'iouri', 'ip', 'ip4', 'ipad', 'ipod', 'iq', 'iraq', 'iriver', 'ironing', 'irritates', 'irritating', 'irritation', 'is', 'iscoming', 'ish', 'island', 'islands', 'isn', 'isnt', 'issue', 'issues', 'it', 'italian', 'itcould', 'items', 'iter', 'its', 'itself', 'itwhichturnedinto', 'itxt', 'itz', 'ive', 'iwana', 'iyo', 'iz', 'izzit', 'j89', 'jabo', 'jackpot', 'jackson', 'jacuzzi', 'jada', 'jade', 'jam', 'james', 'jamster', 'jan', 'jane', 'january', 'jap', 'japanese', 'jas', 'jason', 'java', 'jay', 'jaya', 'jaykwon', 'jaz', 'jazz', 'jd', 'je', 'jealous', 'jeans', 'jeetey', 'jen', 'jenne', 'jenny', 'jenxxx', 'jeremiah', 'jeri', 'jerk', 'jerry', 'jess', 'jesus', 'jet', 'jez', 'ji', 'jia', 'jiayin', 'jiu', 'jjc', 'jo', 'joanna', 'job', 'jocks', 'jod', 'john', 'join', 'joined', 'joining', 'joke', 'joker', 'jokes', 'joking', 'jolly', 'jolt', 'jon', 'jones', 'jontin', 'jordan', 'jorge', 'jos', 'jot', 'journey', 'joy', 'jp', 'js', 'jsco', 'jst', 'jstfrnd', 'jsut', 'juan', 'juicy', 'jul', 'jules', 'juliana', 'july', 'june', 'jungle', 'junna', 'jus', 'just', 'justbeen', 'justify', 'juswoke', 'juz', 'k52', 'k61', 'k718', 'kadeem', 'kaiez', 'kaila', 'kaitlyn', 'kallis', 'kama', 'kanagu', 'kano', 'kappa', 'karaoke', 'kate', 'katexxx', 'kath', 'kay', 'kb', 'ke', 'keen', 'keep', 'keeping', 'keeps', 'kegger', 'ken', 'kent', 'kept', 'kerala', 'keris', 'kettoda', 'key', 'keypad', 'keys', 'kfc', 'kg', 'khelate', 'kick', 'kickoff', 'kicks', 'kid', 'kidding', 'kids', 'kidz', 'kiefer', 'killing', 'kind', 'kinda', 'kindly', 'king', 'kingdom', 'kintu', 'kiosk', 'kisi', 'kiss', 'kisses', 'kissing', 'kit', 'kitty', 'kl341', 'knackered', 'knee', 'knees', 'knew', 'knickers', 'knocking', 'know', 'knowing', 'knows', 'knw', 'ko', 'kochi', 'kodstini', 'kodthini', 'kolathupalayam', 'konw', 'kothi', 'ktv', 'kuch', 'kudi', 'kusruthi', 'kvb', 'kz', 'l8', 'l8r', 'l8rs', 'l8tr', 'la', 'la3', 'lab', 'labor', 'lacs', 'laden', 'ladies', 'lady', 'lag', 'lage', 'lager', 'laid', 'lakhs', 'lambda', 'lambu', 'lamp', 'lancaster', 'land', 'landing', 'landline', 'landlineonly', 'landlines', 'landmark', 'lands', 'langport', 'language', 'lap', 'lapdancer', 'laptop', 'lar', 'lara', 'laready', 'largest', 'lark', 'lasagna', 'last', 'late', 'lately', 'latelyxxx', 'later', 'latest', 'latr', 'laugh', 'laughed', 'laughing', 'laughs', 'laundry', 'laurie', 'lavender', 'law', 'laxinorficated', 'lay', 'laying', 'lays', 'lazy', 'lccltd', 'ld', 'ldew', 'ldn', 'ldnw15h', 'le', 'lead', 'leadership', 'leading', 'leads', 'leaf', 'leanne', 'learn', 'least', 'least5times', 'leave', 'leaves', 'leaving', 'lect', 'lecture', 'lecturer', 'left', 'leg', 'legal', 'legitimat', 'legs', 'leh', 'lei', 'lemme', 'length', 'lengths', 'lennon', 'leo', 'leona', 'les', 'less', 'lesson', 'lessons', 'let', 'lets', 'letter', 'letters', 'lf56', 'li', 'liao', 'lib', 'library', 'lick', 'licks', 'lido', 'lie', 'lies', 'life', 'lifebook', 'lifetime', 'lifpartnr', 'lift', 'light', 'lighters', 'lik', 'like', 'liked', 'likely', 'likes', 'likeyour', 'liking', 'lil', 'lily', 'limited', 'limiting', 'limits', 'lindsay', 'line', 'linear', 'lined', 'linerental', 'lines', 'lingo', 'link', 'linux', 'lion', 'lip', 'lipo', 'lips', 'liquor', 'list', 'listed', 'listen', 'listener', 'listening', 'listn', 'lists', 'literally', 'litres', 'little', 'live', 'lived', 'liver', 'liverpool', 'lives', 'living', 'lk', 'lkpobox177hp51fl', 'll', 'llspeak', 'lmao', 'lnly', 'lo', 'load', 'loads', 'loan', 'lobby', 'local', 'location', 'locations', 'lock', 'locks', 'lodge', 'lodging', 'log', 'logged', 'logging', 'login', 'logo', 'logoff', 'logos', 'loko', 'lol', 'lololo', 'london', 'loneliness', 'lonely', 'long', 'longer', 'lonlines', 'loo', 'look', 'looked', 'lookin', 'looking', 'looks', 'loooooool', 'looovvve', 'loose', 'loosing', 'lor', 'lord', 'lose', 'losers', 'loses', 'losing', 'loss', 'lost', 'lot', 'lotr', 'lots', 'lotsly', 'lotta', 'lotto', 'lotz', 'lou', 'loud', 'lounge', 'lousy', 'lov', 'lovable', 'love', 'loved', 'lovely', 'loveme', 'lover', 'loverboy', 'lovers', 'loves', 'lovin', 'loving', 'lovingly', 'lovly', 'low', 'lower', 'loxahatchee', 'loyal', 'loyalty', 'lrg', 'ls1', 'ls15hb', 'ls278bb', 'lst', 'lt', 'ltd', 'ltdhelpdesk', 'lttrs', 'lubly', 'luck', 'lucky', 'lucozade', 'lucy', 'lucyxx', 'luks', 'lul', 'lunch', 'lunsford', 'lush', 'luton', 'luv', 'luvd', 'luvs', 'lux', 'luxury', 'lv', 'lvblefrnd', 'lyricalladie', 'm100', 'm221bp', 'm227xy', 'm26', 'm263uz', 'm39m51', 'm6', 'm60', 'm8', 'm8s', 'm95', 'ma', 'maaaan', 'maangalyam', 'mac', 'macha', 'machan', 'machines', 'macho', 'macleran', 'macs', 'mad', 'mad1', 'mad2', 'madam', 'made', 'madodu', 'madoke', 'madstini', 'mag', 'maga', 'magazine', 'magical', 'magicalsongs', 'mah', 'mahal', 'mahfuuz', 'maid', 'mail', 'mailbox', 'mailed', 'mails', 'main', 'maintain', 'maintaining', 'major', 'make', 'makes', 'makiing', 'makin', 'making', 'malaria', 'malarky', 'mall', 'mallika', 'man', 'manage', 'managed', 'management', 'manchester', 'manda', 'mandara', 'maneesha', 'mango', 'maniac', 'manky', 'manual', 'many', 'map', 'maps', 'march', 'margaret', 'mark', 'market', 'marriage', 'married', 'marry', 'mary', 'mas', 'masked', 'massive', 'masteriastering', 'masters', 'match', 'matches', 'mate', 'mates', 'math', 'mathe', 'mathematics', 'maths', 'matric', 'matrix3', 'matter', 'matured', 'maturity', 'max', 'max10mins', 'max6', 'maximize', 'maximum', 'may', 'mayb', 'maybe', 'mb', 'mc', 'mca', 'mcat', 'mcfly', 'me', 'meal', 'meals', 'mean', 'meaning', 'meaningful', 'meaningless', 'means', 'meant', 'meanwhile', 'measure', 'meatballs', 'mecause', 'med', 'medical', 'meds', 'meet', 'meetin', 'meeting', 'meetins', 'meets', 'meg', 'mega', 'meh', 'mei', 'mel', 'melle', 'melnite', 'melody', 'member', 'members', 'membership', 'memorable', 'memories', 'memory', 'men', 'mental', 'mentor', 'menu', 'merememberin', 'merry', 'mesages', 'mess', 'message', 'messaged', 'messages', 'messaging', 'messed', 'messenger', 'messy', 'met', 'method', 'mf', 'mfl', 'mi', 'mia', 'mid', 'middle', 'midnight', 'might', 'miiiiiiissssssssss', 'mike', 'mila', 'mileage', 'miles', 'milk', 'millers', 'milta', 'min', 'mina', 'minapn', 'mind', 'minded', 'mindset', 'mine', 'minecraft', 'mini', 'minimum', 'minmobsmore', 'minmobsmorelkpobox177hp51fl', 'minmoremobsemspobox45po139wa', 'minnaminunginte', 'minor', 'mins', 'minus', 'minute', 'minutes', 'minuts', 'miracle', 'mirror', 'misbehaved', 'miserable', 'misfits', 'misplaced', 'miss', 'missed', 'missin', 'missing', 'missions', 'missunderstding', 'mist', 'mistake', 'mistakes', 'misundrstud', 'mite', 'mitsake', 'mittelschmertz', 'miwa', 'mix', 'mj', 'mk45', 'mm', 'mmm', 'mmmm', 'mmmmm', 'mmmmmm', 'mmmmmmm', 'mnth', 'mnths', 'mo', 'moan', 'mob', 'mobcudb', 'mobile', 'mobiles', 'mobilesdirect', 'mobilesvary', 'mobileupd8', 'mobno', 'mobs', 'mobsi', 'mobstorequiz10ppm', 'moby', 'mobypobox734ls27yf', 'mode', 'model', 'modl', 'module', 'modules', 'mofo', 'moji', 'mojibiola', 'mokka', 'mom', 'moment', 'moments', 'moms', 'mon', 'monday', 'money', 'monkey', 'monkeys', 'month', 'monthly', 'monthlysubscription', 'months', 'mood', 'moon', 'moral', 'more', 'morefrmmob', 'morn', 'mornin', 'morning', 'mornings', 'morphine', 'morrow', 'most', 'mostly', 'mother', 'motherfucker', 'motivate', 'motor', 'motorola', 'mountain', 'mountains', 'mouse', 'mouth', 'move', 'moved', 'moves', 'movie', 'movies', 'movietrivia', 'moving', 'mp3', 'mquiz', 'mr', 'mre', 'mrng', 'mrt', 'ms', 'msg', 'msg150p', 'msging', 'msgrcvd', 'msgrcvdhg', 'msgs', 'msn', 'mt', 'mtalk', 'mth', 'mths', 'mtmsg18', 'mtmsgrcvd18', 'mtnl', 'mu', 'muah', 'much', 'mudyadhu', 'mufti', 'muhommad', 'muht', 'multimedia', 'multiply', 'mum', 'mumbai', 'mumhas', 'mummy', 'munsters', 'murali', 'murder', 'murdered', 'murderer', 'mus', 'mush', 'mushy', 'music', 'musicnews', 'must', 'musta', 'musthu', 'mutai', 'mutations', 'muz', 'mw', 'my', 'mylife', 'mymoby', 'myparents', 'myself', 'myspace', 'n9dx', 'na', 'naal', 'nachos', 'nag', 'nagar', 'nah', 'nahi', 'nails', 'naked', 'nalla', 'name', 'name1', 'name2', 'named', 'names', 'nammanna', 'namous', 'nan', 'nap', 'narcotics', 'nasdaq', 'naseeb', 'nasty', 'nat', 'nat27081980', 'natalja', 'national', 'nationwide', 'natural', 'nature', 'naughty', 'nauseous', 'nav', 'nb', 'nd', 'ne', 'near', 'nearby', 'nearly', 'necessarily', 'necessary', 'necessity', 'necklace', 'ned', 'need', 'needa', 'needed', 'needing', 'needs', 'needy', 'neft', 'negative', 'neglect', 'neighbor', 'neighbors', 'neither', 'nelson', 'neo69', 'nervous', 'net', 'netcollex', 'nething', 'netun', 'netvision', 'network', 'networking', 'neva', 'never', 'nevering', 'neville', 'new', 'neway', 'newest', 'newport', 'news', 'newscaster', 'newspapers', 'next', 'nhs', 'ni8', 'nic', 'nice', 'nichols', 'nick', 'nickey', 'nigeria', 'nigh', 'night', 'nights', 'nigpun', 'nigro', 'nikiyu4', 'nimya', 'ninish', 'nipost', 'nit', 'nite', 'nitros', 'nitw', 'nitz', 'njan', 'nmde', 'no', 'no1', 'nobbing', 'nobody', 'noe', 'noi', 'noise', 'nok', 'nokia', 'nokia6600', 'nokias', 'noline', 'noncomittal', 'none', 'nonetheless', 'noon', 'noooooooo', 'nope', 'nora', 'norcorp', 'norm150p', 'normal', 'normally', 'northampton', 'nos', 'nosh', 'nosy', 'not', 'note', 'nothin', 'nothing', 'notice', 'notifications', 'notixiquating', 'nottingham', 'noun', 'now', 'now1', 'nowadays', 'nt', 'nte', 'ntimate', 'ntt', 'ntwk', 'nuclear', 'nudist', 'nuerologist', 'num', 'number', 'numbers', 'nursery', 'nurses', 'nurungu', 'nus', 'nuther', 'nvm', 'nvq', 'nw', 'nxt', 'nyc', 'nydc', 'nyt', 'nytho', 'nìte', 'o2', 'o2fwd', 'oath', 'obese', 'obey', 'objection', 'oble', 'oblisingately', 'obviously', 'occasion', 'occur', 'ocean', 'oclock', 'october', 'odi', 'of', 'ofcourse', 'off', 'offc', 'offense', 'offer', 'offers', 'office', 'officer', 'official', 'officially', 'ofice', 'ofsi', 'often', 'ogunrinde', 'oh', 'oi', 'oil', 'oja', 'ok', 'okay', 'okday', 'okden', 'okey', 'okie', 'okmail', 'ola', 'olave', 'olayiwola', 'old', 'oli', 'olol', 'omg', 'omw', 'on', 'onam', 'onbus', 'once', 'one', 'ones', 'oni', 'online', 'only', 'onto', 'onwards', 'onwords', 'oooh', 'oooooh', 'oops', 'open', 'opener', 'opening', 'operator', 'opinion', 'opinions', 'opponenter', 'opportunity', 'opposite', 'opt', 'opted', 'optimistic', 'option', 'optout', 'or', 'or2optout', 'or2stoptxt', 'oral', 'orange', 'oranges', 'orc', 'orchard', 'order', 'ordered', 'ordinator', 'ore', 'oredi', 'oreo', 'organizer', 'orig', 'original', 'ors', 'oru', 'os', 'oso', 'other', 'others', 'otherwise', 'othrs', 'othrwise', 'otside', 'our', 'out', 'outages', 'outbid', 'outdoors', 'outfor', 'outgoing', 'outreach', 'outs', 'outside', 'outsider', 'outta', 'ovarian', 'oveable', 'over', 'overa', 'overdid', 'overemphasise', 'overheating', 'overtime', 'ovulation', 'ow', 'owed', 'owl', 'own', 'owned', 'owns', 'owo', 'oxygen', 'oyea', 'oyster', 'oz', 'pa', 'paces', 'package', 'packs', 'page', 'pages', 'paid', 'pain', 'painful', 'pairs', 'pale', 'palm', 'pandy', 'panic', 'panren', 'pansy', 'panther', 'panties', 'pants', 'pap', 'papa', 'paper', 'paperwork', 'paracetamol', 'parade', 'paragon', 'paragraphs', 'paranoid', 'parco', 'parent', 'parents', 'paris', 'parish', 'park', 'parked', 'parking', 'part', 'participate', 'particularly', 'parties', 'partner', 'partnership', 'parts', 'party', 'paru', 'pass', 'passable', 'passed', 'passes', 'passion', 'passionate', 'password', 'passwords', 'past', 'patent', 'patrick', 'patty', 'paul', 'pause', 'pax', 'pay', 'payback', 'payed', 'payed2day', 'payee', 'paying', 'payment', 'payoh', 'paypal', 'pc', 'pc1323', 'pdate_now', 'peace', 'peaceful', 'peach', 'pee', 'peeps', 'pehle', 'pei', 'pen', 'pence', 'pendent', 'pending', 'penis', 'penny', 'people', 'peoples', 'per', 'percent', 'percentages', 'perf', 'perform', 'performance', 'performed', 'perfume', 'period', 'permanent', 'permission', 'persolvo', 'person', 'person2die', 'personal', 'personality', 'persons', 'perspective', 'pest', 'pete', 'petey', 'petrol', 'pg', 'ph', 'pharmacy', 'phasing', 'phb1', 'phd', 'phil', 'philosophical', 'philosophy', 'phne', 'phoenix', 'phone', 'phone750', 'phonebook', 'phoned', 'phones', 'phony', 'photo', 'photos', 'php', 'phyhcmk', 'physics', 'pic', 'pick', 'picked', 'picking', 'pickle', 'pics', 'picture', 'pictures', 'pie', 'piece', 'pieces', 'pierre', 'pig', 'piggy', 'pilates', 'pile', 'pillows', 'pimples', 'pin', 'pink', 'pints', 'pisces', 'piss', 'pissed', 'pity', 'pix', 'pixels', 'pizza', 'pl', 'place', 'placed', 'placement', 'places', 'plan', 'plane', 'planet', 'planned', 'planning', 'plans', 'platt', 'play', 'played', 'player', 'players', 'playin', 'playing', 'playng', 'plaza', 'pleasant', 'please', 'pleased', 'pleassssssseeeeee', 'pleasure', 'pleasured', 'plenty', 'plm', 'ploughing', 'pls', 'plum', 'plumbers', 'plural', 'plus', 'plyr', 'plz', 'pm', 'pmt', 'po', 'pobox', 'pobox1', 'pobox114', 'pobox12n146tf15', 'pobox334', 'pobox36504w45wq', 'pobox365o4w45wq', 'pobox45w2tg150p', 'pobox75ldns7', 'pobox84', 'pocay', 'pocketbabe', 'pockets', 'pocy', 'pod', 'point', 'points', 'poker', 'pokkiri', 'pole', 'police', 'polo', 'poly', 'polyh', 'polyph', 'polyphonic', 'polys', 'pongal', 'poo', 'pooja', 'pookie', 'pool', 'poop', 'poor', 'pop', 'popcorn', 'popped', 'porn', 'port', 'portal', 'portege', 'portions', 'posh', 'position', 'positions', 'positive', 'possession', 'possessive', 'possessiveness', 'possible', 'possibly', 'post', 'postal', 'postcard', 'postcode', 'posted', 'postponed', 'posts', 'potato', 'potential', 'potter', 'pouch', 'pound', 'pounded', 'pounds', 'poured', 'pouts', 'power', 'poyyarikatur', 'ppl', 'pple', 'ppm', 'ppt150x3', 'prabha', 'prabu', 'practice', 'practicing', 'practising', 'praises', 'prasad', 'praveesh', 'pray', 'praying', 'prayrs', 'pre', 'predict', 'predictive', 'prefer', 'preferably', 'prem', 'premier', 'premium', 'prepare', 'prepared', 'preschoolco', 'prescripiton', 'prescription', 'presence', 'present', 'president', 'press', 'pressure', 'pretsorginta', 'pretsovru', 'pretty', 'previous', 'previously', 'prey', 'price', 'pride', 'priest', 'prin', 'prince', 'princes', 'princess', 'print', 'printed', 'printing', 'priority', 'priscilla', 'privacy', 'private', 'priya', 'prize', 'prizes', 'prizeswith', 'pro', 'prob', 'probably', 'problem', 'problematic', 'problems', 'problms', 'probpop', 'probs', 'process', 'processed', 'prods', 'products', 'professors', 'profit', 'program', 'programs', 'progress', 'project', 'prolly', 'prominent', 'promise', 'promised', 'promises', 'promo', 'promoting', 'promotion', 'promptly', 'prompts', 'prone', 'proof', 'proove', 'properly', 'propose', 'props', 'propsd', 'pros', 'prospects', 'protect', 'prove', 'proverb', 'provided', 'provider', 'providing', 'province', 'proze', 'prsn', 'pshew', 'psp', 'psxtra', 'psychiatrist', 'psychic', 'psychologist', 'pt2', 'ptbo', 'pthis', 'pub', 'public', 'pubs', 'pudunga', 'pull', 'pulls', 'pump', 'punish', 'punj', 'puppy', 'purchase', 'purchases', 'purity', 'purpose', 'purse', 'push', 'pushbutton', 'pushes', 'pussy', 'put', 'puts', 'putting', 'px3748', 'qatar', 'qbank', 'qet', 'qi', 'qing', 'qjkgighjjgcbl', 'qlynnbv', 'quality', 'queen', 'queries', 'ques', 'question', 'questions', 'quick', 'quickly', 'quiet', 'quit', 'quite', 'quiteamuzing', 'quitting', 'quiz', 'quote', 'quoting', 'r836', 'racing', 'radiator', 'radio', 'raed', 'rael', 'rahul', 'raiden', 'railway', 'rain', 'raining', 'raise', 'raised', 'raj', 'rajas', 'raji', 'rajitha', 'rajnikant', 'rakhesh', 'rally', 'ramen', 'ran', 'random', 'randomlly', 'randomly', 'randy', 'rang', 'range', 'ranjith', 'ranju', 'raping', 'rate', 'rates', 'rather', 'ratio', 'rawring', 'rayan', 'rays', 'rcb', 'rcd', 'rcv', 'rcvd', 'rd', 're', 'reach', 'reache', 'reached', 'reaching', 'reacting', 'reaction', 'read', 'readers', 'readiness', 'reading', 'ready', 'real', 'real1', 'realise', 'realised', 'realising', 'reality', 'realize', 'realized', 'realizes', 'really', 'realy', 'reapply', 'reason', 'reasonable', 'reasons', 'rebel', 'reboot', 'rebooting', 'rebtel', 'rec', 'recd', 'receipt', 'receipts', 'receive', 'receivea', 'received', 'receiving', 'recent', 'recently', 'reception', 'recession', 'recharge', 'recharged', 'recieve', 'recognise', 'recognises', 'record', 'recorded', 'recorder', 'records', 'recovery', 'recpt', 'recreation', 'red', 'redeemable', 'redeemed', 'reduce', 'ref', 'reference', 'reflection', 'reflex', 'reformat', 'refunded', 'refused', 'reg', 'regard', 'regarding', 'regards', 'register', 'registered', 'registration', 'regret', 'regretted', 'regular', 'rejected', 'relation', 'relatives', 'relax', 'relaxing', 'released', 'reliant', 'relieved', 'religiously', 'relocate', 'reltnship', 'remain', 'remains', 'remb', 'remember', 'remembered', 'rememberi', 'remembr', 'remembrs', 'remind', 'reminded', 'reminder', 'reminding', 'removal', 'remove', 'rencontre', 'renewal', 'renewed', 'renewing', 'rent', 'rental', 'renting', 'rentl', 'rents', 'repair', 'repairs', 'repeat', 'repeating', 'repent', 'replace', 'replacement', 'replied', 'replies', 'reply', 'replying', 'report', 'reppurcussions', 'representative', 'republic', 'request', 'requests', 'research', 'resent', 'reset', 'residency', 'resizing', 'reslove', 'resolution', 'resolved', 'resort', 'respect', 'respectful', 'responce', 'respond', 'responding', 'response', 'responsibilities', 'rest', 'restaurant', 'restock', 'restocked', 'result', 'results', 'resume', 'resuming', 'retard', 'retired', 'retrieve', 'return', 'returned', 'returns', 'reveal', 'revealed', 'revealing', 'reverse', 'review', 'revision', 'reward', 'rewarding', 'rg21', 'rgent', 'rhode', 'rhythm', 'rice', 'rich', 'ridden', 'ride', 'right', 'rightio', 'rightly', 'riley', 'rimac', 'ring', 'rings', 'ringtone', 'ringtoneking', 'ringtones', 'rip', 'ripped', 'rise', 'rite', 'road', 'roads', 'roast', 'rock', 'rocking', 'rocks', 'rodds1', 'rodger', 'rofl', 'roger', 'role', 'roles', 'rolled', 'roller', 'romantic', 'romcapspam', 'ron', 'room', 'roommate', 'roommates', 'rooms', 'ros', 'rose', 'roses', 'rough', 'round', 'route', 'row', 'rowdy', 'royal', 'rply', 'rr', 'rs', 'rstm', 'rt', 'rto', 'ru', 'rub', 'rubber', 'rude', 'rudi', 'rugby', 'ruining', 'rule', 'rum', 'rumbling', 'rumour', 'run', 'running', 'runs', 'rupaul', 'rush', 'rushing', 'ruthful', 'rv', 'rvx', 'ryan', 's3xy', 's89', 'sabarish', 'sac', 'sachin', 'sack', 'sacked', 'sacrifice', 'sad', 'sae', 'saeed', 'safe', 'safely', 'safety', 'saibaba', 'said', 'salad', 'salam', 'salary', 'sale', 'sales', 'salesman', 'sall', 'salon', 'salt', 'sam', 'samachara', 'samantha', 'sambar', 'same', 'samus', 'sang', 'sankranti', 'santa', 'santacalling', 'sao', 'sar', 'sara', 'sarasota', 'sarcasm', 'sarcastic', 'saristar', 'sariyag', 'sary', 'sashimi', 'sat', 'sathy', 'sathya', 'satisfied', 'satisfy', 'satsgettin', 'satthen', 'saturday', 'saucy', 'savamob', 'save', 'saved', 'saves', 'savings', 'saw', 'say', 'saying', 'says', 'sayy', 'sc', 'scallies', 'scammers', 'scarcasim', 'scared', 'scary', 'scenario', 'scenery', 'sch', 'schedule', 'school', 'schools', 'science', 'scold', 'scool', 'scorable', 'score', 'scores', 'scoring', 'scotch', 'scotland', 'scouse', 'scraped', 'scrappy', 'scratches', 'scream', 'screamed', 'screaming', 'screen', 'screwd', 'scrounge', 'scrumptious', 'sdryb8i', 'se', 'sea', 'search', 'searching', 'season', 'seat', 'sec', 'second', 'secondary', 'seconds', 'secret', 'secretly', 'secure', 'sed', 'see', 'seeing', 'seeking', 'seem', 'seemed', 'seems', 'seen', 'sef', 'sehwag', 'seing', 'select', 'selected', 'selection', 'self', 'selfish', 'selflessness', 'sell', 'selling', 'sells', 'semester', 'semi', 'semiobscure', 'send', 'sender', 'sending', 'sends', 'senrd', 'sense', 'senses', 'sensitive', 'sent', 'sentence', 'senthil', 'sentiment', 'seperated', 'sept', 'september', 'serena', 'series', 'serious', 'seriously', 'server', 'service', 'services', 'serving', 'set', 'setting', 'settings', 'settled', 'settling', 'seven', 'several', 'sex', 'sexy', 'sf', 'sg', 'sh', 'sha', 'shagged', 'shakara', 'shake', 'shakespeare', 'shaking', 'shall', 'shame', 'shampain', 'shangela', 'shanghai', 'shant', 'shaping', 'share', 'shared', 'sharing', 'shattered', 'shaved', 'shd', 'she', 'sheet', 'sheets', 'shelf', 'shell', 'shelves', 'sherawat', 'shes', 'shesil', 'shexy', 'shhhhh', 'shifad', 'shijas', 'shijutta', 'shinco', 'shindig', 'shining', 'shiny', 'ship', 'shipped', 'shipping', 'shirt', 'shirts', 'shit', 'shitload', 'shitstorm', 'shivratri', 'shld', 'shldxxxx', 'shock', 'shocking', 'shoes', 'shoot', 'shop', 'shoppin', 'shopping', 'shore', 'short', 'shortage', 'shortcode', 'shorter', 'shortly', 'shorts', 'shot', 'should', 'shoulders', 'shouldn', 'shouted', 'shouting', 'shove', 'shoving', 'show', 'showed', 'shower', 'showered', 'showers', 'showing', 'showr', 'showrooms', 'shows', 'shracomorsglsuplt', 'shrek', 'shrink', 'shrub', 'shsex', 'shu', 'shudvetold', 'shuhui', 'shun', 'shut', 'shy', 'si', 'sian', 'sib', 'sic', 'sick', 'sickness', 'side', 'sigh', 'sighs', 'sight', 'sign', 'significant', 'signin', 'signing', 'silence', 'silent', 'silently', 'sim', 'simonwatson5120', 'simple', 'simpler', 'simply', 'simulate', 'since', 'sinco', 'sindu', 'sing', 'singapore', 'singing', 'single', 'singles', 'sink', 'sipix', 'sir', 'sirji', 'sis', 'sister', 'sisters', 'sit', 'site', 'sitll', 'sitter', 'sittin', 'sitting', 'situation', 'situations', 'siva', 'six', 'size', 'sized', 'sk3', 'sk38xh', 'skilgme', 'skillgame', 'skills', 'skins', 'skint', 'skip', 'sky', 'skye', 'skype', 'skyped', 'slacking', 'slap', 'slave', 'sleep', 'sleepin', 'sleeping', 'sleepingwith', 'sleeps', 'sleepwell', 'sleepy', 'slept', 'slice', 'slices', 'slide', 'sliding', 'slightly', 'slip', 'slippery', 'slo', 'slob', 'slots', 'slow', 'slower', 'slowing', 'slowly', 'slp', 'slurp', 'smacks', 'small', 'smart', 'smartcall', 'smarter', 'smash', 'smashed', 'smells', 'smeone', 'smidgin', 'smile', 'smiles', 'smiling', 'smith', 'smoke', 'smoked', 'smokes', 'smokin', 'smoking', 'sms', 'smsing', 'smsrewards', 'smsservices', 'smth', 'sn', 'snake', 'snd', 'snogs', 'snoring', 'snot', 'snow', 'snuggles', 'so', 'soc', 'sochte', 'social', 'sofa', 'soft', 'software', 'soil', 'soiree', 'sol', 'soladha', 'solihull', 'solved', 'some', 'some1', 'somebody', 'someday', 'someone', 'someplace', 'somerset', 'sometext', 'somethin', 'something', 'sometime', 'sometimes', 'sometme', 'somewhat', 'somewhere', 'somtimes', 'sonathaya', 'sonetimes', 'song', 'songs', 'sony', 'sonyericsson', 'soo', 'soon', 'sooner', 'soonlots', 'sooo', 'soooo', 'sophas', 'sore', 'sorrow', 'sorrows', 'sorry', 'sort', 'sorta', 'sorted', 'sorting', 'sory', 'soryda', 'soul', 'sound', 'sounds', 'soundtrack', 'soup', 'source', 'sources', 'south', 'souveniers', 'sozi', 'sp', 'space', 'spacebucks', 'spain', 'spanish', 'spare', 'spares', 'spark', 'speak', 'speaking', 'special', 'speciale', 'specialisation', 'specialise', 'specially', 'specific', 'specs', 'speechless', 'speed', 'speedchat', 'speeding', 'speling', 'spell', 'spelled', 'spend', 'spending', 'spent', 'spiffing', 'spile', 'spin', 'spinout', 'spirit', 'spk', 'spl', 'splash', 'splashmobile', 'splat', 'splendid', 'splleing', 'spoiled', 'spoilt', 'spoke', 'spoken', 'sponsors', 'spontaneously', 'spook', 'spoon', 'sporadically', 'sport', 'sportsx', 'spot', 'spotty', 'spouse', 'sppok', 'spreadsheet', 'spree', 'sprint', 'spun', 'spys', 'sq825', 'squatting', 'squeeeeeze', 'squeezed', 'squid', 'sry', 'st', 'stable', 'staff', 'stage', 'stagwood', 'stamped', 'stamps', 'stand', 'standard', 'standing', 'stands', 'stapati', 'star', 'staring', 'stars', 'start', 'started', 'starting', 'starts', 'starve', 'starving', 'starwars3', 'statement', 'statements', 'station', 'stay', 'stayed', 'stayin', 'staying', 'stays', 'std', 'stdtxtrate', 'steak', 'steal', 'stealing', 'steam', 'steamboat', 'steed', 'steering', 'step', 'steps', 'stereo', 'sterling', 'sterm', 'steve', 'stewartsize', 'sth', 'stick', 'sticky', 'still', 'stink', 'stock', 'stocked', 'stockport', 'stolen', 'stomach', 'stomps', 'stone', 'stoners', 'stones', 'stool', 'stop', 'stop2', 'stop2stop', 'stopbcm', 'stopcs', 'stopped', 'stops', 'stopsms', 'store', 'storming', 'story', 'str', 'str8', 'straight', 'strange', 'stranger', 'street', 'stress', 'stressful', 'stretch', 'strewn', 'strict', 'strike', 'strip', 'strips', 'strong', 'strt', 'strtd', 'struggling', 'sts', 'stubborn', 'stuck', 'students', 'studies', 'studio', 'study', 'studying', 'studyn', 'stuff', 'stuff42moro', 'stuffed', 'stuffs', 'stunning', 'stupid', 'style', 'stylish', 'stylist', 'sub', 'subject', 'subletting', 'submitted', 'submitting', 'subpoly', 'subs', 'subs16', 'subscribe', 'subscribe6gbp', 'subscribed', 'subscribers', 'subscription', 'subscriptions', 'subscriptn3gbp', 'subscrition', 'subtoitles', 'success', 'successful', 'successfully', 'such', 'sucker', 'suckers', 'sucks', 'sudden', 'suddenly', 'sudn', 'sue', 'suffer', 'suffering', 'sufficient', 'sugababes', 'suganya', 'sugar', 'sugardad', 'suggest', 'suggestion', 'suggestions', 'suite', 'suite342', 'suitemates', 'suits', 'sum', 'sumfing', 'summer', 'sumthin', 'sun', 'sun0819', 'sunday', 'sundayish', 'sunny', 'sunoco', 'sunscreen', 'sunshine', 'suntec', 'sup', 'super', 'superb', 'supervisor', 'supose', 'supplies', 'supply', 'support', 'supposed', 'suprman', 'sura', 'sure', 'surely', 'surf', 'surfing', 'surgical', 'surly', 'surprise', 'surprised', 'surrender', 'surrounded', 'survey', 'surya', 'sutra', 'sux', 'suzy', 'svc', 'sw7', 'sw73ss', 'swann', 'swap', 'swat', 'swatch', 'sway', 'swayze', 'sweater', 'sweatter', 'sweet', 'sweetest', 'sweetheart', 'sweetie', 'sweets', 'swell', 'swhrt', 'swimming', 'swing', 'switch', 'swoop', 'swt', 'swtheart', 'syd', 'syllabus', 'symbol', 'sympathetic', 'symptoms', 'synced', 'system', 'systems', 't4get2text', 't91', 'ta', 'table', 'tablets', 'tacos', 'tactful', 'tactless', 'tag', 'tahan', 'taka', 'take', 'taken', 'takes', 'takin', 'taking', 'talents', 'talk', 'talkbut', 'talked', 'talking', 'talks', 'tall', 'tallent', 'tampa', 'tantrum', 'tap', 'tape', 'tariffs', 'tarot', 'taste', 'tasts', 'tat', 'tata', 'tats', 'taught', 'taunton', 'taxi', 'taylor', 'tayseer', 'tb', 'tbs', 'tc', 'tcr', 'tcs', 'tddnewsletter', 'tea', 'teach', 'teacher', 'teachers', 'teaches', 'teaching', 'team', 'tear', 'tears', 'tease', 'teasing', 'tech', 'technical', 'technologies', 'tee', 'teeth', 'teju', 'tel', 'telephone', 'teletext', 'tell', 'telling', 'tellmiss', 'tells', 'telly', 'telphone', 'telugu', 'temales', 'temp', 'temper', 'temple', 'ten', 'tenants', 'tendencies', 'tenerife', 'tensed', 'tension', 'teresa', 'term', 'terminated', 'terms', 'ternal', 'terrible', 'terrific', 'terror', 'terrorist', 'tescos', 'tessy', 'test', 'testing', 'tests', 'tex', 'texd', 'text', 'text82228', 'textbook', 'textbuddy', 'textcomp', 'texted', 'textin', 'texting', 'textoperator', 'textpod', 'texts', 'tgxxrz', 'th', 'than', 'thangam', 'thank', 'thanks', 'thanks2', 'thanksgiving', 'thanx', 'thanx4', 'thasa', 'that', 'that2worzels', 'thats', 'the', 'the4th', 'theacusations', 'theatre', 'thedailydraw', 'their', 'thekingshead', 'them', 'themed', 'themob', 'then', 'theoretically', 'theory', 'theplace', 'thepub', 'there', 'theres', 'these', 'thesedays', 'thesis', 'thesmszone', 'thew', 'they', 'theyre', 'thgt', 'thing', 'things', 'think', 'thinked', 'thinkin', 'thinking', 'thinks', 'thinl', 'thirtyeight', 'this', 'thk', 'thm', 'thnx', 'tho', 'those', 'thot', 'though', 'thought', 'thoughts', 'thout', 'threats', 'three', 'threw', 'thriller', 'throat', 'through', 'throw', 'throwin', 'throwing', 'thru', 'ths', 'tht', 'thts', 'thuglyfe', 'thurs', 'thursday', 'thx', 'thy', 'tick', 'ticket', 'tickets', 'tight', 'tihs', 'til', 'till', 'time', 'times', 'timing', 'tip', 'tired', 'tiring', 'tirunelvai', 'tirunelvali', 'tirupur', 'tis', 'tissco', 'title', 'titles', 'tiwary', 'tiz', 'tke', 'tkts', 'tlk', 'tlp', 'tm', 'tming', 'tmorow', 'tmorrow', 'tmr', 'tmrw', 'tms', 'tmw', 'tnc', 'tncs', 'to', 'toa', 'toaday', 'tocall', 'toclaim', 'today', 'todays', 'todo', 'tog', 'together', 'tohar', 'toilet', 'tok', 'token', 'toking', 'told', 'toledo', 'tolerat', 'toll', 'tom', 'tomarrow', 'tomeandsaid', 'tomo', 'tomorro', 'tomorrow', 'tomorw', 'tone', 'tones', 'tones2u', 'tones2you', 'tonexs', 'tonight', 'tonights', 'tonite', 'tons', 'too', 'took', 'tool', 'tooo', 'toot', 'tooth', 'toothpaste', 'tootsie', 'top', 'topic', 'topped', 'toppoly', 'tops', 'torch', 'torrents', 'tortilla', 'toshiba', 'tot', 'total', 'totally', 'totes', 'touch', 'touched', 'tough', 'toughest', 'tour', 'towards', 'town', 'toyota', 'tp', 'track', 'trade', 'traditions', 'train', 'trained', 'training', 'trainners', 'trains', 'transaction', 'transfer', 'transfered', 'transfr', 'transfred', 'transport', 'trav', 'travel', 'traveling', 'travelled', 'travelling', 'treacle', 'treadmill', 'treasure', 'treat', 'treated', 'treatin', 'treats', 'trebles', 'tree', 'trends', 'trial', 'tried', 'trip', 'triple', 'trishul', 'triumphed', 'trivia', 'trouble', 'troubleshooting', 'truck', 'true', 'true18', 'truffles', 'truly', 'trust', 'trusting', 'truth', 'try', 'tryin', 'trying', 'ts', 'tsandcs', 'tscs', 'tscs08714740323', 'tscs087147403231winawk', 'tsunami', 'tsunamis', 'tt', 'ttyl', 'tues', 'tuesday', 'tuition', 'tulip', 'tunde', 'tune', 'tunji', 'turn', 'turned', 'turning', 'turns', 'tuth', 'tv', 'twice', 'twilight', 'twinks', 'twittering', 'two', 'tx', 'txt', 'txt43', 'txt82228', 'txtauction', 'txtin', 'txting', 'txtno', 'txts', 'txtstop', 'txttowin', 'tyler', 'type', 'types', 'tyrone', 'u2moro', 'u4', 'ubandu', 'ugadi', 'ugh', 'ugo', 'uh', 'uhhhhrmm', 'uin', 'uk', 'uks', 'ultimatum', 'um', 'umma', 'ummma', 'ummmmmaah', 'un', 'unable', 'unbelievable', 'unbreakable', 'unclaimed', 'uncle', 'uncles', 'unconditionally', 'unconscious', 'unconsciously', 'unconvinced', 'uncountable', 'under', 'underdtand', 'understand', 'understanding', 'understood', 'underwear', 'undrstndng', 'unemployed', 'unfolds', 'unfortunately', 'unhappiness', 'unhappy', 'uni', 'unicef', 'uniform', 'unintentional', 'unintentionally', 'unique', 'united', 'units', 'univ', 'university', 'unjalur', 'unkempt', 'unknown', 'unless', 'unlimited', 'unmits', 'unnecessarily', 'unni', 'unredeemed', 'unsold', 'unspoken', 'unsub', 'unsubscribe', 'unsubscribed', 'untamed', 'until', 'up', 'up4', 'upd8', 'updat', 'update', 'update_now', 'upgrade', 'upgrading', 'upload', 'uploaded', 'upon', 'upping', 'ups', 'upset', 'upstairs', 'upto', 'uptown', 'ur', 'urawinner', 'ure', 'urgent', 'urgently', 'urgh', 'urgnt', 'urgran', 'urination', 'url', 'urn', 'urself', 'us', 'usc', 'use', 'used', 'useful', 'useless', 'user', 'usf', 'using', 'usmle', 'usps', 'usual', 'usually', 'uterus', 'utter', 'uttered', 'uup', 'uv', 'uve', 'uwana', 'uworld', 'vaazhthukkal', 'vague', 'vaguely', 'vale', 'valentine', 'valentines', 'valid', 'valid12hrs', 'valuable', 'value', 'valued', 'values', 'various', 'varma', 'vary', 'vat', 'vava', 'vday', 've', 'vegas', 'veggie', 'vehicle', 'velachery', 'venaam', 'verified', 'verify', 'verifying', 'version', 'very', 'vettam', 'vewy', 'via', 'vibrate', 'vibrator', 'victors', 'vid', 'video', 'videochat', 'videophones', 'videos', 'videosound', 'videosounds', 'view', 'vijay', 'vijaykanth', 'vikky', 'vilikkam', 'vill', 'villa', 'village', 'violated', 'violet', 'vip', 'virgin', 'virtual', 'visionsms', 'visit', 'visitor', 'visitors', 'viva', 'vivek', 'vl', 'voda', 'vodafone', 'vodka', 'voice', 'voicemail', 'voila', 'volcanoes', 'vomit', 'vomitin', 'vomiting', 'vote', 'vouch4me', 'voucher', 'vouchers', 'vpod', 'vry', 'vth', 'vu', 'w1', 'w111wx', 'w14rg', 'w1j', 'w1j6hl', 'w1jhl', 'w1t1jy', 'w45wq', 'w8in', 'wa', 'wa14', 'waaaat', 'wad', 'wadebridge', 'wah', 'wahala', 'wahay', 'waheed', 'waheeda', 'wahleykkum', 'waht', 'wait', 'waited', 'waitin', 'waiting', 'wake', 'waking', 'wales', 'walk', 'walked', 'walking', 'walks', 'wallpaper', 'walls', 'walmart', 'wamma', 'wan', 'wan2', 'wana', 'wanna', 'wannatell', 'want', 'want2come', 'wanted', 'wanting', 'wants', 'wap', 'waqt', 'warm', 'warming', 'warned', 'warner', 'warning', 'warranty', 'warwick', 'was', 'washob', 'wasn', 'wasnt', 'waste', 'wasting', 'wat', 'watch', 'watched', 'watches', 'watching', 'watchng', 'water', 'watever', 'watevr', 'wating', 'watr', 'wats', 'wave', 'wavering', 'waves', 'way', 'way2sms', 'waz', 'wc1n3xx', 'we', 'weak', 'weaknesses', 'wear', 'wearing', 'weaseling', 'weather', 'web', 'webadres', 'webeburnin', 'webpage', 'website', 'wed', 'wedding', 'wednesday', 'wee', 'weed', 'week', 'weekdays', 'weekend', 'weekends', 'weekly', 'weeks', 'weigh', 'weighed', 'weight', 'weightloss', 'weird', 'weirdest', 'weirdy', 'welcome', 'welcomes', 'well', 'welp', 'wen', 'wenever', 'went', 'wenwecan', 'wer', 'were', 'werebored', 'wesley', 'wesleys', 'west', 'western', 'westlife', 'westonzoyland', 'westshore', 'wet', 'wetherspoons', 'wewa', 'whassup', 'what', 'whatever', 'whats', 'whatsup', 'wheat', 'wheel', 'wheellock', 'when', 'whenever', 'whenevr', 'whens', 'where', 'whereare', 'wherever', 'wherre', 'whether', 'which', 'while', 'whilltake', 'whispers', 'white', 'whn', 'who', 'whole', 'whom', 'whore', 'whos', 'whose', 'whr', 'why', 'wicked', 'wicklow', 'wid', 'widelive', 'wif', 'wife', 'wifi', 'wihtuot', 'wikipedia', 'wil', 'wild', 'wildest', 'wildlife', 'will', 'willing', 'willpower', 'win', 'win150ppmx3age16', 'wind', 'window', 'windows', 'windy', 'wine', 'wined', 'wining', 'winner', 'winnersclub', 'winning', 'wins', 'winterstone', 'wipe', 'wire3', 'wisdom', 'wise', 'wish', 'wisheds', 'wishes', 'wishing', 'wiskey', 'wit', 'with', 'withdraw', 'wither', 'within', 'without', 'witin', 'witot', 'wiv', 'wizzle', 'wk', 'wkend', 'wkent', 'wkg', 'wkly', 'wknd', 'wks', 'wlcome', 'wld', 'wml', 'wn', 'wnevr', 'wnt', 'wo', 'woah', 'wocay', 'woke', 'woken', 'womdarfull', 'women', 'won', 'wondarfull', 'wonder', 'wonderful', 'wondering', 'wonders', 'wont', 'woodland', 'woohoo', 'woould', 'worc', 'word', 'words', 'work', 'workage', 'workand', 'workin', 'working', 'workout', 'works', 'world', 'worlds', 'worms', 'worried', 'worries', 'worry', 'worse', 'worst', 'worth', 'wot', 'wotu', 'wotz', 'would', 'woulda', 'wouldn', 'wounds', 'wow', 'wrc', 'wrecked', 'wrench', 'wrenching', 'wright', 'write', 'writhing', 'wrk', 'wrkin', 'wrking', 'wrld', 'wrnog', 'wrong', 'wrote', 'ws', 'wt', 'wtf', 'wud', 'wudn', 'wuld', 'wun', 'www', 'wylie', 'x29', 'xam', 'xavier', 'xchat', 'xclusive', 'xin', 'xmas', 'xoxo', 'xuhui', 'xx', 'xxx', 'xxxmobilemovieclub', 'xxxx', 'xxxxx', 'xxxxxxx', 'xxxxxxxx', 'xxxxxxxxxxxxxx', 'xy', 'ya', 'yah', 'yahoo', 'yalrigu', 'yan', 'yar', 'yarasu', 'yaxx', 'yay', 'yeah', 'year', 'years', 'yeh', 'yelling', 'yellow', 'yen', 'yeovil', 'yep', 'yer', 'yes', 'yest', 'yesterday', 'yet', 'yetty', 'yetunde', 'yhl', 'yifeng', 'yijue', 'ym', 'ymca', 'yo', 'yoga', 'yogasana', 'yor', 'you', 'youdoing', 'youi', 'youphone', 'your', 'youre', 'yourinclusive', 'yourjob', 'yours', 'yourself', 'youwanna', 'yowifes', 'yr', 'yrs', 'ything', 'yummy', 'yun', 'yunny', 'yuo', 'yuou', 'yup', 'yupz', 'zaher', 'zebra', 'zed', 'zeros', 'zhong', 'zindgi', 'zoe', 'zoom', 'zouk', 'zyada', '〨ud']\n"
          ]
        }
      ]
    },
    {
      "cell_type": "code",
      "source": [
        "type(XTrain) #the XTrain is a sparse matrix means that the matrix is mostly composed of zeros rather than ones , and that's due to the countvectorizer \n",
        "#which was set as an appearance indicator of the token in each document "
      ],
      "metadata": {
        "colab": {
          "base_uri": "https://localhost:8080/"
        },
        "id": "hSYgN528dU5l",
        "outputId": "658db4c6-1cad-420b-ddae-34924cef0de3"
      },
      "execution_count": 19,
      "outputs": [
        {
          "output_type": "execute_result",
          "data": {
            "text/plain": [
              "scipy.sparse.csr.csr_matrix"
            ]
          },
          "metadata": {},
          "execution_count": 19
        }
      ]
    },
    {
      "cell_type": "code",
      "source": [
        "mdtTrain = XTrain.toarray() #transforming the sparse matrix into a numpy array \n",
        "print(type(mdtTrain))"
      ],
      "metadata": {
        "colab": {
          "base_uri": "https://localhost:8080/"
        },
        "id": "tkDtMzuAdN-G",
        "outputId": "9f6bdd89-6274-46ff-e013-2ddaca8b9703"
      },
      "execution_count": 20,
      "outputs": [
        {
          "output_type": "stream",
          "name": "stdout",
          "text": [
            "<class 'numpy.ndarray'>\n"
          ]
        }
      ]
    },
    {
      "cell_type": "code",
      "source": [
        "print(mdtTrain.shape)#the training set is composed of 3572 rows and 6789 features (tokens)"
      ],
      "metadata": {
        "colab": {
          "base_uri": "https://localhost:8080/"
        },
        "id": "LC4AjveGdQqk",
        "outputId": "68a48935-d509-48b2-a613-d0cd47a0f6d5"
      },
      "execution_count": 21,
      "outputs": [
        {
          "output_type": "stream",
          "name": "stdout",
          "text": [
            "(3572, 6789)\n"
          ]
        }
      ]
    },
    {
      "cell_type": "code",
      "source": [
        "freq_mots = np.sum(mdtTrain , axis=0)#counting the number of accurence for each token in the whole corpus \n",
        "print(freq_mots)"
      ],
      "metadata": {
        "colab": {
          "base_uri": "https://localhost:8080/"
        },
        "id": "v33i8GKCdbeC",
        "outputId": "f2c1f089-a1b4-44eb-ac6e-c0f35c79204b"
      },
      "execution_count": 22,
      "outputs": [
        {
          "output_type": "stream",
          "name": "stdout",
          "text": [
            "[ 7 16  1 ...  1  1  1]\n"
          ]
        }
      ]
    },
    {
      "cell_type": "code",
      "source": [
        "index = np.argsort(freq_mots) #sorting in an asc ordering the terms according to their number of occurences in the whole corpus \n",
        "print(index)"
      ],
      "metadata": {
        "colab": {
          "base_uri": "https://localhost:8080/"
        },
        "id": "xR9hPY3fdeIy",
        "outputId": "9a1a132f-65d6-443f-adea-0e67b99ece12"
      },
      "execution_count": 23,
      "outputs": [
        {
          "output_type": "stream",
          "name": "stdout",
          "text": [
            "[3394 3820 3817 ... 5962 6756 6061]\n"
          ]
        }
      ]
    },
    {
      "cell_type": "code",
      "source": [
        "imp = {'terme':np.asarray(parseur.get_feature_names())[index],'freq':freq_mots[index]}\n",
        "print(pandas.DataFrame(imp))#printing the previous results list of terms "
      ],
      "metadata": {
        "colab": {
          "base_uri": "https://localhost:8080/"
        },
        "id": "RkY9rziBdgs0",
        "outputId": "291d903b-2a42-42e2-e77d-9b081dd2e273"
      },
      "execution_count": 24,
      "outputs": [
        {
          "output_type": "stream",
          "name": "stdout",
          "text": [
            "         terme  freq\n",
            "0        kaiez     1\n",
            "1         mary     1\n",
            "2     marriage     1\n",
            "3         maps     1\n",
            "4       manual     1\n",
            "...        ...   ...\n",
            "6784       and   522\n",
            "6785        in   528\n",
            "6786       the   647\n",
            "6787       you  1042\n",
            "6788        to  1091\n",
            "\n",
            "[6789 rows x 2 columns]\n"
          ]
        }
      ]
    },
    {
      "cell_type": "markdown",
      "source": [
        "# **Training 1 :**"
      ],
      "metadata": {
        "id": "JLAS4lCddhU-"
      }
    },
    {
      "cell_type": "code",
      "source": [
        "modelFirst = LogisticRegression()#instanciating the logreg function \n",
        "modelFirst.fit(mdtTrain,spamsTrain['classe'])#fitting it into the training set \n",
        "print(modelFirst.coef_.shape)#printing the shape of coeficients parameters \n"
      ],
      "metadata": {
        "id": "HIXrmLcr7pMV",
        "colab": {
          "base_uri": "https://localhost:8080/"
        },
        "outputId": "e72c6be6-ee3e-4227-8a73-65a154a5f08d"
      },
      "execution_count": 25,
      "outputs": [
        {
          "output_type": "stream",
          "name": "stdout",
          "text": [
            "(1, 6789)\n"
          ]
        }
      ]
    },
    {
      "cell_type": "code",
      "source": [
        "print(modelFirst.intercept_)#printng the sahpe of the bias "
      ],
      "metadata": {
        "colab": {
          "base_uri": "https://localhost:8080/"
        },
        "id": "ivyJPDiPquxa",
        "outputId": "ffedccbf-ae67-4e41-e170-2af677fdb7e3"
      },
      "execution_count": 26,
      "outputs": [
        {
          "output_type": "stream",
          "name": "stdout",
          "text": [
            "[-4.9643061]\n"
          ]
        }
      ]
    },
    {
      "cell_type": "code",
      "source": [
        "mdtTest = parseur.transform(spamsTest['message'])#transfroming the testing set in the same way as we did with training set to have ensure consistency\n",
        "print(mdtTest.shape)"
      ],
      "metadata": {
        "id": "ZaOnCTRU7zk9",
        "colab": {
          "base_uri": "https://localhost:8080/"
        },
        "outputId": "7cb0b857-ec0e-4739-b8d4-b442f9a7b02f"
      },
      "execution_count": 27,
      "outputs": [
        {
          "output_type": "stream",
          "name": "stdout",
          "text": [
            "(2000, 6789)\n"
          ]
        }
      ]
    },
    {
      "cell_type": "code",
      "source": [
        "from sklearn import tree\n",
        "clf1 = tree.DecisionTreeClassifier()\n",
        "clf1 = clf1.fit(mdtTrain,spamsTrain['classe'])"
      ],
      "metadata": {
        "id": "yEWJsmd4zc47"
      },
      "execution_count": 28,
      "outputs": []
    },
    {
      "cell_type": "markdown",
      "source": [
        "# **prediction 1:**"
      ],
      "metadata": {
        "id": "rRUuwZa3vixG"
      }
    },
    {
      "cell_type": "code",
      "source": [
        "predTest = modelFirst.predict(mdtTest)#prediction for the testing set "
      ],
      "metadata": {
        "id": "9x6w-P3QrNTy"
      },
      "execution_count": 29,
      "outputs": []
    },
    {
      "cell_type": "code",
      "source": [
        "#confusino matrix \n",
        "mcTest = metrics.confusion_matrix(spamsTest['classe'],predTest)\n",
        "print(mcTest)\n",
        "\n",
        "#recall\n",
        "print(metrics.recall_score(spamsTest['classe'],predTest,pos_label='spam'))\n",
        "\n",
        "#precision\n",
        "print(metrics.precision_score(spamsTest['classe'],predTest,pos_label='spam'))\n",
        "\n",
        "#F1-Score\n",
        "print(metrics.f1_score(spamsTest['classe'],predTest,pos_label='spam'))\n",
        "\n",
        "#accuracy rate\n",
        "print(metrics.accuracy_score(spamsTest['classe'],predTest))"
      ],
      "metadata": {
        "id": "znitCBmB8ODY",
        "colab": {
          "base_uri": "https://localhost:8080/"
        },
        "outputId": "c372202c-46c1-4209-9b46-772bd5a61450"
      },
      "execution_count": 30,
      "outputs": [
        {
          "output_type": "stream",
          "name": "stdout",
          "text": [
            "[[1731    1]\n",
            " [  40  228]]\n",
            "0.8507462686567164\n",
            "0.9956331877729258\n",
            "0.9175050301810864\n",
            "0.9795\n"
          ]
        }
      ]
    },
    {
      "cell_type": "code",
      "source": [
        "predTest = clf1.predict(mdtTest)#prediction for the testing set "
      ],
      "metadata": {
        "id": "P2CLh1Phzup0"
      },
      "execution_count": 31,
      "outputs": []
    },
    {
      "cell_type": "code",
      "source": [
        "#confusino matrix \n",
        "mcTest = metrics.confusion_matrix(spamsTest['classe'],predTest)\n",
        "print(mcTest)\n",
        "\n",
        "#recall\n",
        "print(metrics.recall_score(spamsTest['classe'],predTest,pos_label='spam'))\n",
        "\n",
        "#precision\n",
        "print(metrics.precision_score(spamsTest['classe'],predTest,pos_label='spam'))\n",
        "\n",
        "#F1-Score\n",
        "print(metrics.f1_score(spamsTest['classe'],predTest,pos_label='spam'))\n",
        "\n",
        "#accuracy rate\n",
        "print(metrics.accuracy_score(spamsTest['classe'],predTest))"
      ],
      "metadata": {
        "colab": {
          "base_uri": "https://localhost:8080/"
        },
        "id": "vBdaHPbQzutD",
        "outputId": "13dbde62-c775-47f4-aeb4-e7024a17c735"
      },
      "execution_count": 32,
      "outputs": [
        {
          "output_type": "stream",
          "name": "stdout",
          "text": [
            "[[1710   22]\n",
            " [  43  225]]\n",
            "0.8395522388059702\n",
            "0.9109311740890689\n",
            "0.8737864077669903\n",
            "0.9675\n"
          ]
        }
      ]
    },
    {
      "cell_type": "markdown",
      "source": [
        "# **preprocessing 2:**"
      ],
      "metadata": {
        "id": "3KCHONGnrtpe"
      }
    },
    {
      "cell_type": "code",
      "source": [
        "parseurBis = CountVectorizer(stop_words='english',binary=True, min_df = 10) #same as the previous preprocessing but enriched with stop word , and words that \n",
        "#appears less than 10 times elimination .\n",
        "XTrainBis = parseurBis.fit_transform(spamsTrain['message'])#same as previous\n",
        "\n",
        "print(len(parseurBis.get_feature_names()))#same as previous\n",
        "mdtTrainBis = XTrainBis.toarray()#same as previous"
      ],
      "metadata": {
        "id": "vebwguJX8WIB",
        "colab": {
          "base_uri": "https://localhost:8080/"
        },
        "outputId": "3508fd47-02d6-42cb-e656-5159d5bfc3a8"
      },
      "execution_count": 33,
      "outputs": [
        {
          "output_type": "stream",
          "name": "stdout",
          "text": [
            "541\n"
          ]
        },
        {
          "output_type": "stream",
          "name": "stderr",
          "text": [
            "/usr/local/lib/python3.7/dist-packages/sklearn/utils/deprecation.py:87: FutureWarning: Function get_feature_names is deprecated; get_feature_names is deprecated in 1.0 and will be removed in 1.2. Please use get_feature_names_out instead.\n",
            "  warnings.warn(msg, category=FutureWarning)\n"
          ]
        }
      ]
    },
    {
      "cell_type": "markdown",
      "source": [
        "# **Training 2:**"
      ],
      "metadata": {
        "id": "NRxtYW2wvZ0i"
      }
    },
    {
      "cell_type": "code",
      "source": [
        "modelBis = LogisticRegression()#same as previous\n",
        "modelBis.fit(mdtTrainBis,spamsTrain['classe'])#same as previous"
      ],
      "metadata": {
        "id": "-I3LQfUf8ecK",
        "colab": {
          "base_uri": "https://localhost:8080/"
        },
        "outputId": "c14ba7b0-2510-46a4-e44f-36138246f433"
      },
      "execution_count": 34,
      "outputs": [
        {
          "output_type": "execute_result",
          "data": {
            "text/plain": [
              "LogisticRegression()"
            ]
          },
          "metadata": {},
          "execution_count": 34
        }
      ]
    },
    {
      "cell_type": "code",
      "source": [
        "clf2 = tree.DecisionTreeClassifier()\n",
        "clf2 = clf2.fit(mdtTrainBis,spamsTrain['classe'])"
      ],
      "metadata": {
        "id": "n4QUUWLN08HR"
      },
      "execution_count": 35,
      "outputs": []
    },
    {
      "cell_type": "markdown",
      "source": [
        "# **Prediction 2:**"
      ],
      "metadata": {
        "id": "Y56pj6uOvdd8"
      }
    },
    {
      "cell_type": "code",
      "source": [
        "mdtTestBis = parseurBis.transform(spamsTest['message'])#same as previous\n",
        "predTestBis = modelBis.predict(mdtTestBis)#same as previous"
      ],
      "metadata": {
        "id": "JdlxIIxZ8jTA"
      },
      "execution_count": 36,
      "outputs": []
    },
    {
      "cell_type": "code",
      "source": [
        "#confusion matrix\n",
        "mcTestBis = metrics.confusion_matrix(spamsTest['classe'],predTestBis)\n",
        "print(mcTestBis)\n",
        "\n",
        "#recall\n",
        "print(metrics.recall_score(spamsTest['classe'],predTestBis,pos_label='spam'))\n",
        "\n",
        "#precision\n",
        "print(metrics.precision_score(spamsTest['classe'],predTestBis,pos_label='spam'))\n",
        "\n",
        "#F1-Score\n",
        "print(metrics.f1_score(spamsTest['classe'],predTestBis,pos_label='spam'))\n",
        "\n",
        "#accuracy rate\n",
        "print(metrics.accuracy_score(spamsTest['classe'],predTestBis))"
      ],
      "metadata": {
        "id": "X4P9XSoJ8ns_",
        "colab": {
          "base_uri": "https://localhost:8080/"
        },
        "outputId": "643482d8-eab5-4f97-a578-f8582d8cb15d"
      },
      "execution_count": 37,
      "outputs": [
        {
          "output_type": "stream",
          "name": "stdout",
          "text": [
            "[[1731    1]\n",
            " [  37  231]]\n",
            "0.8619402985074627\n",
            "0.9956896551724138\n",
            "0.9239999999999999\n",
            "0.981\n"
          ]
        }
      ]
    },
    {
      "cell_type": "code",
      "source": [
        "mdtTestBis = parseurBis.transform(spamsTest['message'])#same as previous\n",
        "predTestBis = clf2.predict(mdtTestBis)#same as previous"
      ],
      "metadata": {
        "id": "N6LvWfSC1FAz"
      },
      "execution_count": 38,
      "outputs": []
    },
    {
      "cell_type": "code",
      "source": [
        "#confusion matrix\n",
        "mcTestBis = metrics.confusion_matrix(spamsTest['classe'],predTestBis)\n",
        "print(mcTestBis)\n",
        "\n",
        "#recall\n",
        "print(metrics.recall_score(spamsTest['classe'],predTestBis,pos_label='spam'))\n",
        "\n",
        "#precision\n",
        "print(metrics.precision_score(spamsTest['classe'],predTestBis,pos_label='spam'))\n",
        "\n",
        "#F1-Score\n",
        "print(metrics.f1_score(spamsTest['classe'],predTestBis,pos_label='spam'))\n",
        "\n",
        "#accuracy rate\n",
        "print(metrics.accuracy_score(spamsTest['classe'],predTestBis))"
      ],
      "metadata": {
        "colab": {
          "base_uri": "https://localhost:8080/"
        },
        "id": "V2j-x_hK1FL_",
        "outputId": "35a9d35a-5c46-4051-e5c2-be7c106b0739"
      },
      "execution_count": 39,
      "outputs": [
        {
          "output_type": "stream",
          "name": "stdout",
          "text": [
            "[[1688   44]\n",
            " [  43  225]]\n",
            "0.8395522388059702\n",
            "0.8364312267657993\n",
            "0.8379888268156424\n",
            "0.9565\n"
          ]
        }
      ]
    },
    {
      "cell_type": "markdown",
      "source": [
        "# **REMOVE TERMS WITH COEFFICIENTS NEARLY ZERO:**"
      ],
      "metadata": {
        "id": "e7SjdTHwwY3o"
      }
    },
    {
      "cell_type": "code",
      "source": [
        "coef_abs = np.abs(modelBis.coef_[0,:]) #taking the absolute value of the coefficients\n",
        "thresholds = np.percentile(coef_abs,[0,25,50,75,90,100])#the values of treshhold are the ones that split the coefficient into 0.25 , 0.50 ...\n",
        "print(thresholds)\n",
        "indices = np.where(coef_abs > thresholds[1])#taking the values that are bigger than the second treshhold\n",
        "print(len(indices[0]))\n",
        "mdtTrainTer = mdtTrainBis[:,indices[0]]#taking only 0.25 of the coefficitn into consideration\n",
        "mdtTestTer = mdtTestBis[:,indices[0]]\n",
        "print(mdtTrainTer.shape)\n",
        "print(mdtTestTer.shape)"
      ],
      "metadata": {
        "id": "PeNkm0838tQx",
        "colab": {
          "base_uri": "https://localhost:8080/"
        },
        "outputId": "ff62c16d-9906-4370-bcf5-699c7d3d7047"
      },
      "execution_count": 40,
      "outputs": [
        {
          "output_type": "stream",
          "name": "stdout",
          "text": [
            "[2.37540153e-03 1.77540082e-01 2.95911402e-01 6.09779140e-01\n",
            " 1.05613226e+00 2.73460362e+00]\n",
            "405\n",
            "(3572, 405)\n",
            "(2000, 405)\n"
          ]
        }
      ]
    },
    {
      "cell_type": "markdown",
      "source": [
        "# **Training 3:**"
      ],
      "metadata": {
        "id": "29D9l_VMwh-Y"
      }
    },
    {
      "cell_type": "code",
      "source": [
        "modelTer = LogisticRegression()\n",
        "modelTer.fit(mdtTrainTer,spamsTrain['classe'])"
      ],
      "metadata": {
        "id": "CpR-OVII80FE",
        "colab": {
          "base_uri": "https://localhost:8080/"
        },
        "outputId": "40ec8ce5-4e4b-4565-d025-fefba32b72d6"
      },
      "execution_count": 41,
      "outputs": [
        {
          "output_type": "execute_result",
          "data": {
            "text/plain": [
              "LogisticRegression()"
            ]
          },
          "metadata": {},
          "execution_count": 41
        }
      ]
    },
    {
      "cell_type": "code",
      "source": [
        "clf3 = tree.DecisionTreeClassifier()\n",
        "clf3 = clf3.fit(mdtTrainTer,spamsTrain['classe'])"
      ],
      "metadata": {
        "id": "QEXYXkvH1nBz"
      },
      "execution_count": 42,
      "outputs": []
    },
    {
      "cell_type": "markdown",
      "source": [
        "# **Prediction 3:**"
      ],
      "metadata": {
        "id": "Lf0UHrmxwlj2"
      }
    },
    {
      "cell_type": "code",
      "source": [
        "predTestTer = modelTer.predict(mdtTestTer)"
      ],
      "metadata": {
        "id": "cSCUbGYK83mU"
      },
      "execution_count": 43,
      "outputs": []
    },
    {
      "cell_type": "code",
      "source": [
        "#confusion matrix\n",
        "mcTestTer = metrics.confusion_matrix(spamsTest['classe'],predTestTer)\n",
        "print(mcTestTer)\n",
        "\n",
        "#recall\n",
        "print(metrics.recall_score(spamsTest['classe'],predTestTer,pos_label='spam'))\n",
        "\n",
        "#precision\n",
        "print(metrics.precision_score(spamsTest['classe'],predTestTer,pos_label='spam'))\n",
        "\n",
        "#F1-Score\n",
        "print(metrics.f1_score(spamsTest['classe'],predTestTer,pos_label='spam'))\n",
        "\n",
        "#accuracy rate\n",
        "print(metrics.accuracy_score(spamsTest['classe'],predTestTer))\n",
        "\n",
        "#selected terms\n",
        "sel_terms = np.array(parseurBis.get_feature_names())[indices[0]]\n",
        "\n",
        "#sorted indices of the absolute value coefficients\n",
        "sorted_indices = np.argsort(np.abs(modelTer.coef_[0,:]))\n",
        "\n",
        "#print the terms and theirs coefficients\n",
        "imp = {'term':np.asarray(sel_terms)[sorted_indices],'coef':modelTer.coef_[0,:][sorted_indices]}\n",
        "print(pandas.DataFrame(imp))"
      ],
      "metadata": {
        "id": "gwwpoG_t8-Fg",
        "colab": {
          "base_uri": "https://localhost:8080/"
        },
        "outputId": "5a2ba10a-db6a-44dd-abc0-2597c2a3bb37"
      },
      "execution_count": 44,
      "outputs": [
        {
          "output_type": "stream",
          "name": "stdout",
          "text": [
            "[[1731    1]\n",
            " [  37  231]]\n",
            "0.8619402985074627\n",
            "0.9956896551724138\n",
            "0.9239999999999999\n",
            "0.981\n",
            "        term      coef\n",
            "0       best -0.152671\n",
            "1       true  0.169354\n",
            "2        sad -0.175941\n",
            "3      haven -0.177285\n",
            "4         im -0.177623\n",
            "..       ...       ...\n",
            "400      new  2.045639\n",
            "401     150p  2.071956\n",
            "402  service  2.222191\n",
            "403    claim  2.273162\n",
            "404       uk  2.744857\n",
            "\n",
            "[405 rows x 2 columns]\n"
          ]
        },
        {
          "output_type": "stream",
          "name": "stderr",
          "text": [
            "/usr/local/lib/python3.7/dist-packages/sklearn/utils/deprecation.py:87: FutureWarning: Function get_feature_names is deprecated; get_feature_names is deprecated in 1.0 and will be removed in 1.2. Please use get_feature_names_out instead.\n",
            "  warnings.warn(msg, category=FutureWarning)\n"
          ]
        }
      ]
    },
    {
      "cell_type": "code",
      "source": [
        "predTestTer = clf3.predict(mdtTestTer)"
      ],
      "metadata": {
        "id": "mxoklRgA1rk6"
      },
      "execution_count": 45,
      "outputs": []
    },
    {
      "cell_type": "code",
      "source": [
        "#confusion matrix\n",
        "mcTestTer = metrics.confusion_matrix(spamsTest['classe'],predTestTer)\n",
        "print(mcTestTer)\n",
        "\n",
        "#recall\n",
        "print(metrics.recall_score(spamsTest['classe'],predTestTer,pos_label='spam'))\n",
        "\n",
        "#precision\n",
        "print(metrics.precision_score(spamsTest['classe'],predTestTer,pos_label='spam'))\n",
        "\n",
        "#F1-Score\n",
        "print(metrics.f1_score(spamsTest['classe'],predTestTer,pos_label='spam'))\n",
        "\n",
        "#accuracy rate\n",
        "print(metrics.accuracy_score(spamsTest['classe'],predTestTer))\n",
        "\n",
        "#selected terms\n",
        "sel_terms = np.array(parseurBis.get_feature_names())[indices[0]]\n",
        "\n",
        "#sorted indices of the absolute value coefficients\n",
        "sorted_indices = np.argsort(np.abs(modelTer.coef_[0,:]))\n",
        "\n",
        "#print the terms and theirs coefficients\n",
        "imp = {'term':np.asarray(sel_terms)[sorted_indices],'coef':modelTer.coef_[0,:][sorted_indices]}\n",
        "print(pandas.DataFrame(imp))"
      ],
      "metadata": {
        "colab": {
          "base_uri": "https://localhost:8080/"
        },
        "id": "JuB6BClO1tVB",
        "outputId": "657d3b60-8a39-42c0-f5ed-01d0d7866232"
      },
      "execution_count": 46,
      "outputs": [
        {
          "output_type": "stream",
          "name": "stdout",
          "text": [
            "[[1694   38]\n",
            " [  40  228]]\n",
            "0.8507462686567164\n",
            "0.8571428571428571\n",
            "0.8539325842696628\n",
            "0.961\n",
            "        term      coef\n",
            "0       best -0.152671\n",
            "1       true  0.169354\n",
            "2        sad -0.175941\n",
            "3      haven -0.177285\n",
            "4         im -0.177623\n",
            "..       ...       ...\n",
            "400      new  2.045639\n",
            "401     150p  2.071956\n",
            "402  service  2.222191\n",
            "403    claim  2.273162\n",
            "404       uk  2.744857\n",
            "\n",
            "[405 rows x 2 columns]\n"
          ]
        },
        {
          "output_type": "stream",
          "name": "stderr",
          "text": [
            "/usr/local/lib/python3.7/dist-packages/sklearn/utils/deprecation.py:87: FutureWarning: Function get_feature_names is deprecated; get_feature_names is deprecated in 1.0 and will be removed in 1.2. Please use get_feature_names_out instead.\n",
            "  warnings.warn(msg, category=FutureWarning)\n"
          ]
        }
      ]
    },
    {
      "cell_type": "markdown",
      "source": [
        "# **Deployment :**"
      ],
      "metadata": {
        "id": "HJhng4MUwTLR"
      }
    },
    {
      "cell_type": "code",
      "source": [
        "#document to classify\n",
        "doc = ['this is a new free service for you only']\n",
        "\n",
        "#get its description\n",
        "desc = parseurBis.transform(doc)\n",
        "print(desc)\n",
        "\n",
        "#which terms\n",
        "print(np.asarray(parseurBis.get_feature_names())[desc.indices])\n",
        "\n",
        "#dense representation\n",
        "dense_desc = desc.toarray()\n",
        "\n",
        "#apply var. selection\n",
        "dense_sel = dense_desc[:,indices[0]]\n",
        "\n",
        "#prediction of the class membership\n",
        "pred_doc = modelTer.predict(dense_sel)\n",
        "print(pred_doc)\n",
        "\n",
        "#prediction of the class membership probabilities\n",
        "pred_proba = modelTer.predict_proba(dense_sel)\n",
        "print(pred_proba)\n",
        "\n",
        "#checking - logit\n",
        "logit = 1.823208 + 1.999089 + 2.201104 + modelTer.intercept_\n",
        "\n",
        "#probability - logistic function\n",
        "p_spam = 1/(1+math.exp(-logit))\n",
        "print(p_spam)\n"
      ],
      "metadata": {
        "id": "lFPYt5_84MB3",
        "colab": {
          "base_uri": "https://localhost:8080/"
        },
        "outputId": "f6146505-1ce4-4b91-e8f6-7eda9cb602fa"
      },
      "execution_count": 47,
      "outputs": [
        {
          "output_type": "stream",
          "name": "stdout",
          "text": [
            "  (0, 166)\t1\n",
            "  (0, 315)\t1\n",
            "  (0, 405)\t1\n",
            "['free' 'new' 'service']\n",
            "['spam']\n",
            "[[0.07816085 0.92183915]]\n",
            "0.9141017335167014\n"
          ]
        },
        {
          "output_type": "stream",
          "name": "stderr",
          "text": [
            "/usr/local/lib/python3.7/dist-packages/sklearn/utils/deprecation.py:87: FutureWarning: Function get_feature_names is deprecated; get_feature_names is deprecated in 1.0 and will be removed in 1.2. Please use get_feature_names_out instead.\n",
            "  warnings.warn(msg, category=FutureWarning)\n"
          ]
        }
      ]
    }
  ]
}